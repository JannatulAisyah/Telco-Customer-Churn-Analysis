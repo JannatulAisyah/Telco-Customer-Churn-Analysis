{
  "nbformat": 4,
  "nbformat_minor": 0,
  "metadata": {
    "colab": {
      "provenance": []
    },
    "kernelspec": {
      "name": "python3",
      "display_name": "Python 3"
    },
    "language_info": {
      "name": "python"
    }
  },
  "cells": [
    {
      "cell_type": "markdown",
      "source": [
        "# Telco Customer Churn Analysis with SQL & Python\n",
        "\n",
        "This project analyzes the **Telco Customer Churn dataset** using SQL queries inside Python.  \n",
        "Goal: uncover churn patterns and generate business insights to help improve customer retention.\n",
        "\n",
        "\n",
        "Dataset source: https://www.kaggle.com/datasets/blastchar/telco-customer-churn\n",
        "\n",
        "---\n"
      ],
      "metadata": {
        "id": "p07HQKo2z-gZ"
      }
    },
    {
      "cell_type": "markdown",
      "source": [
        "## 1. Load & Clean Data"
      ],
      "metadata": {
        "id": "zXXhWwis42a9"
      }
    },
    {
      "cell_type": "markdown",
      "source": [
        "We first load the dataset, handle missing values, convert numeric columns, and remove duplicates."
      ],
      "metadata": {
        "id": "n99FljIeaekS"
      }
    },
    {
      "cell_type": "code",
      "source": [
        "from google.colab import files\n",
        "import pandas as pd"
      ],
      "metadata": {
        "id": "vJJGF4wxziyB"
      },
      "execution_count": 1,
      "outputs": []
    },
    {
      "cell_type": "markdown",
      "source": [
        "Upload dataset:"
      ],
      "metadata": {
        "id": "eaS4cri91b9R"
      }
    },
    {
      "cell_type": "code",
      "source": [
        "uploaded = files.upload()\n",
        "fname = list(uploaded.keys())[0]\n",
        "df = pd.read_csv(fname)"
      ],
      "metadata": {
        "colab": {
          "base_uri": "https://localhost:8080/",
          "height": 110
        },
        "id": "8YOOIsvv4TNq",
        "outputId": "cfd42db4-5603-4c69-a580-f005d466c32c"
      },
      "execution_count": 2,
      "outputs": [
        {
          "output_type": "display_data",
          "data": {
            "text/plain": [
              "<IPython.core.display.HTML object>"
            ],
            "text/html": [
              "\n",
              "     <input type=\"file\" id=\"files-82a3b665-1634-4695-97f3-ab32a3824180\" name=\"files[]\" multiple disabled\n",
              "        style=\"border:none\" />\n",
              "     <output id=\"result-82a3b665-1634-4695-97f3-ab32a3824180\">\n",
              "      Upload widget is only available when the cell has been executed in the\n",
              "      current browser session. Please rerun this cell to enable.\n",
              "      </output>\n",
              "      <script>// Copyright 2017 Google LLC\n",
              "//\n",
              "// Licensed under the Apache License, Version 2.0 (the \"License\");\n",
              "// you may not use this file except in compliance with the License.\n",
              "// You may obtain a copy of the License at\n",
              "//\n",
              "//      http://www.apache.org/licenses/LICENSE-2.0\n",
              "//\n",
              "// Unless required by applicable law or agreed to in writing, software\n",
              "// distributed under the License is distributed on an \"AS IS\" BASIS,\n",
              "// WITHOUT WARRANTIES OR CONDITIONS OF ANY KIND, either express or implied.\n",
              "// See the License for the specific language governing permissions and\n",
              "// limitations under the License.\n",
              "\n",
              "/**\n",
              " * @fileoverview Helpers for google.colab Python module.\n",
              " */\n",
              "(function(scope) {\n",
              "function span(text, styleAttributes = {}) {\n",
              "  const element = document.createElement('span');\n",
              "  element.textContent = text;\n",
              "  for (const key of Object.keys(styleAttributes)) {\n",
              "    element.style[key] = styleAttributes[key];\n",
              "  }\n",
              "  return element;\n",
              "}\n",
              "\n",
              "// Max number of bytes which will be uploaded at a time.\n",
              "const MAX_PAYLOAD_SIZE = 100 * 1024;\n",
              "\n",
              "function _uploadFiles(inputId, outputId) {\n",
              "  const steps = uploadFilesStep(inputId, outputId);\n",
              "  const outputElement = document.getElementById(outputId);\n",
              "  // Cache steps on the outputElement to make it available for the next call\n",
              "  // to uploadFilesContinue from Python.\n",
              "  outputElement.steps = steps;\n",
              "\n",
              "  return _uploadFilesContinue(outputId);\n",
              "}\n",
              "\n",
              "// This is roughly an async generator (not supported in the browser yet),\n",
              "// where there are multiple asynchronous steps and the Python side is going\n",
              "// to poll for completion of each step.\n",
              "// This uses a Promise to block the python side on completion of each step,\n",
              "// then passes the result of the previous step as the input to the next step.\n",
              "function _uploadFilesContinue(outputId) {\n",
              "  const outputElement = document.getElementById(outputId);\n",
              "  const steps = outputElement.steps;\n",
              "\n",
              "  const next = steps.next(outputElement.lastPromiseValue);\n",
              "  return Promise.resolve(next.value.promise).then((value) => {\n",
              "    // Cache the last promise value to make it available to the next\n",
              "    // step of the generator.\n",
              "    outputElement.lastPromiseValue = value;\n",
              "    return next.value.response;\n",
              "  });\n",
              "}\n",
              "\n",
              "/**\n",
              " * Generator function which is called between each async step of the upload\n",
              " * process.\n",
              " * @param {string} inputId Element ID of the input file picker element.\n",
              " * @param {string} outputId Element ID of the output display.\n",
              " * @return {!Iterable<!Object>} Iterable of next steps.\n",
              " */\n",
              "function* uploadFilesStep(inputId, outputId) {\n",
              "  const inputElement = document.getElementById(inputId);\n",
              "  inputElement.disabled = false;\n",
              "\n",
              "  const outputElement = document.getElementById(outputId);\n",
              "  outputElement.innerHTML = '';\n",
              "\n",
              "  const pickedPromise = new Promise((resolve) => {\n",
              "    inputElement.addEventListener('change', (e) => {\n",
              "      resolve(e.target.files);\n",
              "    });\n",
              "  });\n",
              "\n",
              "  const cancel = document.createElement('button');\n",
              "  inputElement.parentElement.appendChild(cancel);\n",
              "  cancel.textContent = 'Cancel upload';\n",
              "  const cancelPromise = new Promise((resolve) => {\n",
              "    cancel.onclick = () => {\n",
              "      resolve(null);\n",
              "    };\n",
              "  });\n",
              "\n",
              "  // Wait for the user to pick the files.\n",
              "  const files = yield {\n",
              "    promise: Promise.race([pickedPromise, cancelPromise]),\n",
              "    response: {\n",
              "      action: 'starting',\n",
              "    }\n",
              "  };\n",
              "\n",
              "  cancel.remove();\n",
              "\n",
              "  // Disable the input element since further picks are not allowed.\n",
              "  inputElement.disabled = true;\n",
              "\n",
              "  if (!files) {\n",
              "    return {\n",
              "      response: {\n",
              "        action: 'complete',\n",
              "      }\n",
              "    };\n",
              "  }\n",
              "\n",
              "  for (const file of files) {\n",
              "    const li = document.createElement('li');\n",
              "    li.append(span(file.name, {fontWeight: 'bold'}));\n",
              "    li.append(span(\n",
              "        `(${file.type || 'n/a'}) - ${file.size} bytes, ` +\n",
              "        `last modified: ${\n",
              "            file.lastModifiedDate ? file.lastModifiedDate.toLocaleDateString() :\n",
              "                                    'n/a'} - `));\n",
              "    const percent = span('0% done');\n",
              "    li.appendChild(percent);\n",
              "\n",
              "    outputElement.appendChild(li);\n",
              "\n",
              "    const fileDataPromise = new Promise((resolve) => {\n",
              "      const reader = new FileReader();\n",
              "      reader.onload = (e) => {\n",
              "        resolve(e.target.result);\n",
              "      };\n",
              "      reader.readAsArrayBuffer(file);\n",
              "    });\n",
              "    // Wait for the data to be ready.\n",
              "    let fileData = yield {\n",
              "      promise: fileDataPromise,\n",
              "      response: {\n",
              "        action: 'continue',\n",
              "      }\n",
              "    };\n",
              "\n",
              "    // Use a chunked sending to avoid message size limits. See b/62115660.\n",
              "    let position = 0;\n",
              "    do {\n",
              "      const length = Math.min(fileData.byteLength - position, MAX_PAYLOAD_SIZE);\n",
              "      const chunk = new Uint8Array(fileData, position, length);\n",
              "      position += length;\n",
              "\n",
              "      const base64 = btoa(String.fromCharCode.apply(null, chunk));\n",
              "      yield {\n",
              "        response: {\n",
              "          action: 'append',\n",
              "          file: file.name,\n",
              "          data: base64,\n",
              "        },\n",
              "      };\n",
              "\n",
              "      let percentDone = fileData.byteLength === 0 ?\n",
              "          100 :\n",
              "          Math.round((position / fileData.byteLength) * 100);\n",
              "      percent.textContent = `${percentDone}% done`;\n",
              "\n",
              "    } while (position < fileData.byteLength);\n",
              "  }\n",
              "\n",
              "  // All done.\n",
              "  yield {\n",
              "    response: {\n",
              "      action: 'complete',\n",
              "    }\n",
              "  };\n",
              "}\n",
              "\n",
              "scope.google = scope.google || {};\n",
              "scope.google.colab = scope.google.colab || {};\n",
              "scope.google.colab._files = {\n",
              "  _uploadFiles,\n",
              "  _uploadFilesContinue,\n",
              "};\n",
              "})(self);\n",
              "</script> "
            ]
          },
          "metadata": {}
        },
        {
          "output_type": "stream",
          "name": "stdout",
          "text": [
            "Saving WA_Fn-UseC_-Telco-Customer-Churn.csv to WA_Fn-UseC_-Telco-Customer-Churn (3).csv\n"
          ]
        }
      ]
    },
    {
      "cell_type": "markdown",
      "source": [
        "Preview:"
      ],
      "metadata": {
        "id": "GBCNiflm5F1X"
      }
    },
    {
      "cell_type": "code",
      "source": [
        "df.head()"
      ],
      "metadata": {
        "colab": {
          "base_uri": "https://localhost:8080/",
          "height": 342
        },
        "id": "WujLQLCY5JnE",
        "outputId": "a5c026e5-a5fd-436e-93ac-870706b2e9b4"
      },
      "execution_count": 3,
      "outputs": [
        {
          "output_type": "execute_result",
          "data": {
            "text/plain": [
              "   customerID  gender  SeniorCitizen Partner Dependents  tenure PhoneService  \\\n",
              "0  7590-VHVEG  Female              0     Yes         No       1           No   \n",
              "1  5575-GNVDE    Male              0      No         No      34          Yes   \n",
              "2  3668-QPYBK    Male              0      No         No       2          Yes   \n",
              "3  7795-CFOCW    Male              0      No         No      45           No   \n",
              "4  9237-HQITU  Female              0      No         No       2          Yes   \n",
              "\n",
              "      MultipleLines InternetService OnlineSecurity  ... DeviceProtection  \\\n",
              "0  No phone service             DSL             No  ...               No   \n",
              "1                No             DSL            Yes  ...              Yes   \n",
              "2                No             DSL            Yes  ...               No   \n",
              "3  No phone service             DSL            Yes  ...              Yes   \n",
              "4                No     Fiber optic             No  ...               No   \n",
              "\n",
              "  TechSupport StreamingTV StreamingMovies        Contract PaperlessBilling  \\\n",
              "0          No          No              No  Month-to-month              Yes   \n",
              "1          No          No              No        One year               No   \n",
              "2          No          No              No  Month-to-month              Yes   \n",
              "3         Yes          No              No        One year               No   \n",
              "4          No          No              No  Month-to-month              Yes   \n",
              "\n",
              "               PaymentMethod MonthlyCharges  TotalCharges Churn  \n",
              "0           Electronic check          29.85         29.85    No  \n",
              "1               Mailed check          56.95        1889.5    No  \n",
              "2               Mailed check          53.85        108.15   Yes  \n",
              "3  Bank transfer (automatic)          42.30       1840.75    No  \n",
              "4           Electronic check          70.70        151.65   Yes  \n",
              "\n",
              "[5 rows x 21 columns]"
            ],
            "text/html": [
              "\n",
              "  <div id=\"df-ee28e7f5-2721-419a-8dfa-7049d7c28464\" class=\"colab-df-container\">\n",
              "    <div>\n",
              "<style scoped>\n",
              "    .dataframe tbody tr th:only-of-type {\n",
              "        vertical-align: middle;\n",
              "    }\n",
              "\n",
              "    .dataframe tbody tr th {\n",
              "        vertical-align: top;\n",
              "    }\n",
              "\n",
              "    .dataframe thead th {\n",
              "        text-align: right;\n",
              "    }\n",
              "</style>\n",
              "<table border=\"1\" class=\"dataframe\">\n",
              "  <thead>\n",
              "    <tr style=\"text-align: right;\">\n",
              "      <th></th>\n",
              "      <th>customerID</th>\n",
              "      <th>gender</th>\n",
              "      <th>SeniorCitizen</th>\n",
              "      <th>Partner</th>\n",
              "      <th>Dependents</th>\n",
              "      <th>tenure</th>\n",
              "      <th>PhoneService</th>\n",
              "      <th>MultipleLines</th>\n",
              "      <th>InternetService</th>\n",
              "      <th>OnlineSecurity</th>\n",
              "      <th>...</th>\n",
              "      <th>DeviceProtection</th>\n",
              "      <th>TechSupport</th>\n",
              "      <th>StreamingTV</th>\n",
              "      <th>StreamingMovies</th>\n",
              "      <th>Contract</th>\n",
              "      <th>PaperlessBilling</th>\n",
              "      <th>PaymentMethod</th>\n",
              "      <th>MonthlyCharges</th>\n",
              "      <th>TotalCharges</th>\n",
              "      <th>Churn</th>\n",
              "    </tr>\n",
              "  </thead>\n",
              "  <tbody>\n",
              "    <tr>\n",
              "      <th>0</th>\n",
              "      <td>7590-VHVEG</td>\n",
              "      <td>Female</td>\n",
              "      <td>0</td>\n",
              "      <td>Yes</td>\n",
              "      <td>No</td>\n",
              "      <td>1</td>\n",
              "      <td>No</td>\n",
              "      <td>No phone service</td>\n",
              "      <td>DSL</td>\n",
              "      <td>No</td>\n",
              "      <td>...</td>\n",
              "      <td>No</td>\n",
              "      <td>No</td>\n",
              "      <td>No</td>\n",
              "      <td>No</td>\n",
              "      <td>Month-to-month</td>\n",
              "      <td>Yes</td>\n",
              "      <td>Electronic check</td>\n",
              "      <td>29.85</td>\n",
              "      <td>29.85</td>\n",
              "      <td>No</td>\n",
              "    </tr>\n",
              "    <tr>\n",
              "      <th>1</th>\n",
              "      <td>5575-GNVDE</td>\n",
              "      <td>Male</td>\n",
              "      <td>0</td>\n",
              "      <td>No</td>\n",
              "      <td>No</td>\n",
              "      <td>34</td>\n",
              "      <td>Yes</td>\n",
              "      <td>No</td>\n",
              "      <td>DSL</td>\n",
              "      <td>Yes</td>\n",
              "      <td>...</td>\n",
              "      <td>Yes</td>\n",
              "      <td>No</td>\n",
              "      <td>No</td>\n",
              "      <td>No</td>\n",
              "      <td>One year</td>\n",
              "      <td>No</td>\n",
              "      <td>Mailed check</td>\n",
              "      <td>56.95</td>\n",
              "      <td>1889.5</td>\n",
              "      <td>No</td>\n",
              "    </tr>\n",
              "    <tr>\n",
              "      <th>2</th>\n",
              "      <td>3668-QPYBK</td>\n",
              "      <td>Male</td>\n",
              "      <td>0</td>\n",
              "      <td>No</td>\n",
              "      <td>No</td>\n",
              "      <td>2</td>\n",
              "      <td>Yes</td>\n",
              "      <td>No</td>\n",
              "      <td>DSL</td>\n",
              "      <td>Yes</td>\n",
              "      <td>...</td>\n",
              "      <td>No</td>\n",
              "      <td>No</td>\n",
              "      <td>No</td>\n",
              "      <td>No</td>\n",
              "      <td>Month-to-month</td>\n",
              "      <td>Yes</td>\n",
              "      <td>Mailed check</td>\n",
              "      <td>53.85</td>\n",
              "      <td>108.15</td>\n",
              "      <td>Yes</td>\n",
              "    </tr>\n",
              "    <tr>\n",
              "      <th>3</th>\n",
              "      <td>7795-CFOCW</td>\n",
              "      <td>Male</td>\n",
              "      <td>0</td>\n",
              "      <td>No</td>\n",
              "      <td>No</td>\n",
              "      <td>45</td>\n",
              "      <td>No</td>\n",
              "      <td>No phone service</td>\n",
              "      <td>DSL</td>\n",
              "      <td>Yes</td>\n",
              "      <td>...</td>\n",
              "      <td>Yes</td>\n",
              "      <td>Yes</td>\n",
              "      <td>No</td>\n",
              "      <td>No</td>\n",
              "      <td>One year</td>\n",
              "      <td>No</td>\n",
              "      <td>Bank transfer (automatic)</td>\n",
              "      <td>42.30</td>\n",
              "      <td>1840.75</td>\n",
              "      <td>No</td>\n",
              "    </tr>\n",
              "    <tr>\n",
              "      <th>4</th>\n",
              "      <td>9237-HQITU</td>\n",
              "      <td>Female</td>\n",
              "      <td>0</td>\n",
              "      <td>No</td>\n",
              "      <td>No</td>\n",
              "      <td>2</td>\n",
              "      <td>Yes</td>\n",
              "      <td>No</td>\n",
              "      <td>Fiber optic</td>\n",
              "      <td>No</td>\n",
              "      <td>...</td>\n",
              "      <td>No</td>\n",
              "      <td>No</td>\n",
              "      <td>No</td>\n",
              "      <td>No</td>\n",
              "      <td>Month-to-month</td>\n",
              "      <td>Yes</td>\n",
              "      <td>Electronic check</td>\n",
              "      <td>70.70</td>\n",
              "      <td>151.65</td>\n",
              "      <td>Yes</td>\n",
              "    </tr>\n",
              "  </tbody>\n",
              "</table>\n",
              "<p>5 rows × 21 columns</p>\n",
              "</div>\n",
              "    <div class=\"colab-df-buttons\">\n",
              "\n",
              "  <div class=\"colab-df-container\">\n",
              "    <button class=\"colab-df-convert\" onclick=\"convertToInteractive('df-ee28e7f5-2721-419a-8dfa-7049d7c28464')\"\n",
              "            title=\"Convert this dataframe to an interactive table.\"\n",
              "            style=\"display:none;\">\n",
              "\n",
              "  <svg xmlns=\"http://www.w3.org/2000/svg\" height=\"24px\" viewBox=\"0 -960 960 960\">\n",
              "    <path d=\"M120-120v-720h720v720H120Zm60-500h600v-160H180v160Zm220 220h160v-160H400v160Zm0 220h160v-160H400v160ZM180-400h160v-160H180v160Zm440 0h160v-160H620v160ZM180-180h160v-160H180v160Zm440 0h160v-160H620v160Z\"/>\n",
              "  </svg>\n",
              "    </button>\n",
              "\n",
              "  <style>\n",
              "    .colab-df-container {\n",
              "      display:flex;\n",
              "      gap: 12px;\n",
              "    }\n",
              "\n",
              "    .colab-df-convert {\n",
              "      background-color: #E8F0FE;\n",
              "      border: none;\n",
              "      border-radius: 50%;\n",
              "      cursor: pointer;\n",
              "      display: none;\n",
              "      fill: #1967D2;\n",
              "      height: 32px;\n",
              "      padding: 0 0 0 0;\n",
              "      width: 32px;\n",
              "    }\n",
              "\n",
              "    .colab-df-convert:hover {\n",
              "      background-color: #E2EBFA;\n",
              "      box-shadow: 0px 1px 2px rgba(60, 64, 67, 0.3), 0px 1px 3px 1px rgba(60, 64, 67, 0.15);\n",
              "      fill: #174EA6;\n",
              "    }\n",
              "\n",
              "    .colab-df-buttons div {\n",
              "      margin-bottom: 4px;\n",
              "    }\n",
              "\n",
              "    [theme=dark] .colab-df-convert {\n",
              "      background-color: #3B4455;\n",
              "      fill: #D2E3FC;\n",
              "    }\n",
              "\n",
              "    [theme=dark] .colab-df-convert:hover {\n",
              "      background-color: #434B5C;\n",
              "      box-shadow: 0px 1px 3px 1px rgba(0, 0, 0, 0.15);\n",
              "      filter: drop-shadow(0px 1px 2px rgba(0, 0, 0, 0.3));\n",
              "      fill: #FFFFFF;\n",
              "    }\n",
              "  </style>\n",
              "\n",
              "    <script>\n",
              "      const buttonEl =\n",
              "        document.querySelector('#df-ee28e7f5-2721-419a-8dfa-7049d7c28464 button.colab-df-convert');\n",
              "      buttonEl.style.display =\n",
              "        google.colab.kernel.accessAllowed ? 'block' : 'none';\n",
              "\n",
              "      async function convertToInteractive(key) {\n",
              "        const element = document.querySelector('#df-ee28e7f5-2721-419a-8dfa-7049d7c28464');\n",
              "        const dataTable =\n",
              "          await google.colab.kernel.invokeFunction('convertToInteractive',\n",
              "                                                    [key], {});\n",
              "        if (!dataTable) return;\n",
              "\n",
              "        const docLinkHtml = 'Like what you see? Visit the ' +\n",
              "          '<a target=\"_blank\" href=https://colab.research.google.com/notebooks/data_table.ipynb>data table notebook</a>'\n",
              "          + ' to learn more about interactive tables.';\n",
              "        element.innerHTML = '';\n",
              "        dataTable['output_type'] = 'display_data';\n",
              "        await google.colab.output.renderOutput(dataTable, element);\n",
              "        const docLink = document.createElement('div');\n",
              "        docLink.innerHTML = docLinkHtml;\n",
              "        element.appendChild(docLink);\n",
              "      }\n",
              "    </script>\n",
              "  </div>\n",
              "\n",
              "\n",
              "    <div id=\"df-3f6ca6c9-07d0-4067-aa4e-4ad56451c3a9\">\n",
              "      <button class=\"colab-df-quickchart\" onclick=\"quickchart('df-3f6ca6c9-07d0-4067-aa4e-4ad56451c3a9')\"\n",
              "                title=\"Suggest charts\"\n",
              "                style=\"display:none;\">\n",
              "\n",
              "<svg xmlns=\"http://www.w3.org/2000/svg\" height=\"24px\"viewBox=\"0 0 24 24\"\n",
              "     width=\"24px\">\n",
              "    <g>\n",
              "        <path d=\"M19 3H5c-1.1 0-2 .9-2 2v14c0 1.1.9 2 2 2h14c1.1 0 2-.9 2-2V5c0-1.1-.9-2-2-2zM9 17H7v-7h2v7zm4 0h-2V7h2v10zm4 0h-2v-4h2v4z\"/>\n",
              "    </g>\n",
              "</svg>\n",
              "      </button>\n",
              "\n",
              "<style>\n",
              "  .colab-df-quickchart {\n",
              "      --bg-color: #E8F0FE;\n",
              "      --fill-color: #1967D2;\n",
              "      --hover-bg-color: #E2EBFA;\n",
              "      --hover-fill-color: #174EA6;\n",
              "      --disabled-fill-color: #AAA;\n",
              "      --disabled-bg-color: #DDD;\n",
              "  }\n",
              "\n",
              "  [theme=dark] .colab-df-quickchart {\n",
              "      --bg-color: #3B4455;\n",
              "      --fill-color: #D2E3FC;\n",
              "      --hover-bg-color: #434B5C;\n",
              "      --hover-fill-color: #FFFFFF;\n",
              "      --disabled-bg-color: #3B4455;\n",
              "      --disabled-fill-color: #666;\n",
              "  }\n",
              "\n",
              "  .colab-df-quickchart {\n",
              "    background-color: var(--bg-color);\n",
              "    border: none;\n",
              "    border-radius: 50%;\n",
              "    cursor: pointer;\n",
              "    display: none;\n",
              "    fill: var(--fill-color);\n",
              "    height: 32px;\n",
              "    padding: 0;\n",
              "    width: 32px;\n",
              "  }\n",
              "\n",
              "  .colab-df-quickchart:hover {\n",
              "    background-color: var(--hover-bg-color);\n",
              "    box-shadow: 0 1px 2px rgba(60, 64, 67, 0.3), 0 1px 3px 1px rgba(60, 64, 67, 0.15);\n",
              "    fill: var(--button-hover-fill-color);\n",
              "  }\n",
              "\n",
              "  .colab-df-quickchart-complete:disabled,\n",
              "  .colab-df-quickchart-complete:disabled:hover {\n",
              "    background-color: var(--disabled-bg-color);\n",
              "    fill: var(--disabled-fill-color);\n",
              "    box-shadow: none;\n",
              "  }\n",
              "\n",
              "  .colab-df-spinner {\n",
              "    border: 2px solid var(--fill-color);\n",
              "    border-color: transparent;\n",
              "    border-bottom-color: var(--fill-color);\n",
              "    animation:\n",
              "      spin 1s steps(1) infinite;\n",
              "  }\n",
              "\n",
              "  @keyframes spin {\n",
              "    0% {\n",
              "      border-color: transparent;\n",
              "      border-bottom-color: var(--fill-color);\n",
              "      border-left-color: var(--fill-color);\n",
              "    }\n",
              "    20% {\n",
              "      border-color: transparent;\n",
              "      border-left-color: var(--fill-color);\n",
              "      border-top-color: var(--fill-color);\n",
              "    }\n",
              "    30% {\n",
              "      border-color: transparent;\n",
              "      border-left-color: var(--fill-color);\n",
              "      border-top-color: var(--fill-color);\n",
              "      border-right-color: var(--fill-color);\n",
              "    }\n",
              "    40% {\n",
              "      border-color: transparent;\n",
              "      border-right-color: var(--fill-color);\n",
              "      border-top-color: var(--fill-color);\n",
              "    }\n",
              "    60% {\n",
              "      border-color: transparent;\n",
              "      border-right-color: var(--fill-color);\n",
              "    }\n",
              "    80% {\n",
              "      border-color: transparent;\n",
              "      border-right-color: var(--fill-color);\n",
              "      border-bottom-color: var(--fill-color);\n",
              "    }\n",
              "    90% {\n",
              "      border-color: transparent;\n",
              "      border-bottom-color: var(--fill-color);\n",
              "    }\n",
              "  }\n",
              "</style>\n",
              "\n",
              "      <script>\n",
              "        async function quickchart(key) {\n",
              "          const quickchartButtonEl =\n",
              "            document.querySelector('#' + key + ' button');\n",
              "          quickchartButtonEl.disabled = true;  // To prevent multiple clicks.\n",
              "          quickchartButtonEl.classList.add('colab-df-spinner');\n",
              "          try {\n",
              "            const charts = await google.colab.kernel.invokeFunction(\n",
              "                'suggestCharts', [key], {});\n",
              "          } catch (error) {\n",
              "            console.error('Error during call to suggestCharts:', error);\n",
              "          }\n",
              "          quickchartButtonEl.classList.remove('colab-df-spinner');\n",
              "          quickchartButtonEl.classList.add('colab-df-quickchart-complete');\n",
              "        }\n",
              "        (() => {\n",
              "          let quickchartButtonEl =\n",
              "            document.querySelector('#df-3f6ca6c9-07d0-4067-aa4e-4ad56451c3a9 button');\n",
              "          quickchartButtonEl.style.display =\n",
              "            google.colab.kernel.accessAllowed ? 'block' : 'none';\n",
              "        })();\n",
              "      </script>\n",
              "    </div>\n",
              "\n",
              "    </div>\n",
              "  </div>\n"
            ],
            "application/vnd.google.colaboratory.intrinsic+json": {
              "type": "dataframe",
              "variable_name": "df"
            }
          },
          "metadata": {},
          "execution_count": 3
        }
      ]
    },
    {
      "cell_type": "markdown",
      "source": [
        "Basic info:"
      ],
      "metadata": {
        "id": "UaewuFeM1kf8"
      }
    },
    {
      "cell_type": "code",
      "source": [
        "df.info()"
      ],
      "metadata": {
        "colab": {
          "base_uri": "https://localhost:8080/"
        },
        "id": "7QnApsZ244Gz",
        "outputId": "5a45b853-606a-4623-ec62-d1e765008303"
      },
      "execution_count": 4,
      "outputs": [
        {
          "output_type": "stream",
          "name": "stdout",
          "text": [
            "<class 'pandas.core.frame.DataFrame'>\n",
            "RangeIndex: 7043 entries, 0 to 7042\n",
            "Data columns (total 21 columns):\n",
            " #   Column            Non-Null Count  Dtype  \n",
            "---  ------            --------------  -----  \n",
            " 0   customerID        7043 non-null   object \n",
            " 1   gender            7043 non-null   object \n",
            " 2   SeniorCitizen     7043 non-null   int64  \n",
            " 3   Partner           7043 non-null   object \n",
            " 4   Dependents        7043 non-null   object \n",
            " 5   tenure            7043 non-null   int64  \n",
            " 6   PhoneService      7043 non-null   object \n",
            " 7   MultipleLines     7043 non-null   object \n",
            " 8   InternetService   7043 non-null   object \n",
            " 9   OnlineSecurity    7043 non-null   object \n",
            " 10  OnlineBackup      7043 non-null   object \n",
            " 11  DeviceProtection  7043 non-null   object \n",
            " 12  TechSupport       7043 non-null   object \n",
            " 13  StreamingTV       7043 non-null   object \n",
            " 14  StreamingMovies   7043 non-null   object \n",
            " 15  Contract          7043 non-null   object \n",
            " 16  PaperlessBilling  7043 non-null   object \n",
            " 17  PaymentMethod     7043 non-null   object \n",
            " 18  MonthlyCharges    7043 non-null   float64\n",
            " 19  TotalCharges      7043 non-null   object \n",
            " 20  Churn             7043 non-null   object \n",
            "dtypes: float64(1), int64(2), object(18)\n",
            "memory usage: 1.1+ MB\n"
          ]
        }
      ]
    },
    {
      "cell_type": "markdown",
      "source": [
        "Missing value:"
      ],
      "metadata": {
        "id": "j3rtp4qo1obB"
      }
    },
    {
      "cell_type": "code",
      "source": [
        "df.isnull().sum()"
      ],
      "metadata": {
        "colab": {
          "base_uri": "https://localhost:8080/",
          "height": 743
        },
        "id": "b5ZWoKbd48Pk",
        "outputId": "aa77100a-dcf9-4d70-f167-d99f10250a07"
      },
      "execution_count": 5,
      "outputs": [
        {
          "output_type": "execute_result",
          "data": {
            "text/plain": [
              "customerID          0\n",
              "gender              0\n",
              "SeniorCitizen       0\n",
              "Partner             0\n",
              "Dependents          0\n",
              "tenure              0\n",
              "PhoneService        0\n",
              "MultipleLines       0\n",
              "InternetService     0\n",
              "OnlineSecurity      0\n",
              "OnlineBackup        0\n",
              "DeviceProtection    0\n",
              "TechSupport         0\n",
              "StreamingTV         0\n",
              "StreamingMovies     0\n",
              "Contract            0\n",
              "PaperlessBilling    0\n",
              "PaymentMethod       0\n",
              "MonthlyCharges      0\n",
              "TotalCharges        0\n",
              "Churn               0\n",
              "dtype: int64"
            ],
            "text/html": [
              "<div>\n",
              "<style scoped>\n",
              "    .dataframe tbody tr th:only-of-type {\n",
              "        vertical-align: middle;\n",
              "    }\n",
              "\n",
              "    .dataframe tbody tr th {\n",
              "        vertical-align: top;\n",
              "    }\n",
              "\n",
              "    .dataframe thead th {\n",
              "        text-align: right;\n",
              "    }\n",
              "</style>\n",
              "<table border=\"1\" class=\"dataframe\">\n",
              "  <thead>\n",
              "    <tr style=\"text-align: right;\">\n",
              "      <th></th>\n",
              "      <th>0</th>\n",
              "    </tr>\n",
              "  </thead>\n",
              "  <tbody>\n",
              "    <tr>\n",
              "      <th>customerID</th>\n",
              "      <td>0</td>\n",
              "    </tr>\n",
              "    <tr>\n",
              "      <th>gender</th>\n",
              "      <td>0</td>\n",
              "    </tr>\n",
              "    <tr>\n",
              "      <th>SeniorCitizen</th>\n",
              "      <td>0</td>\n",
              "    </tr>\n",
              "    <tr>\n",
              "      <th>Partner</th>\n",
              "      <td>0</td>\n",
              "    </tr>\n",
              "    <tr>\n",
              "      <th>Dependents</th>\n",
              "      <td>0</td>\n",
              "    </tr>\n",
              "    <tr>\n",
              "      <th>tenure</th>\n",
              "      <td>0</td>\n",
              "    </tr>\n",
              "    <tr>\n",
              "      <th>PhoneService</th>\n",
              "      <td>0</td>\n",
              "    </tr>\n",
              "    <tr>\n",
              "      <th>MultipleLines</th>\n",
              "      <td>0</td>\n",
              "    </tr>\n",
              "    <tr>\n",
              "      <th>InternetService</th>\n",
              "      <td>0</td>\n",
              "    </tr>\n",
              "    <tr>\n",
              "      <th>OnlineSecurity</th>\n",
              "      <td>0</td>\n",
              "    </tr>\n",
              "    <tr>\n",
              "      <th>OnlineBackup</th>\n",
              "      <td>0</td>\n",
              "    </tr>\n",
              "    <tr>\n",
              "      <th>DeviceProtection</th>\n",
              "      <td>0</td>\n",
              "    </tr>\n",
              "    <tr>\n",
              "      <th>TechSupport</th>\n",
              "      <td>0</td>\n",
              "    </tr>\n",
              "    <tr>\n",
              "      <th>StreamingTV</th>\n",
              "      <td>0</td>\n",
              "    </tr>\n",
              "    <tr>\n",
              "      <th>StreamingMovies</th>\n",
              "      <td>0</td>\n",
              "    </tr>\n",
              "    <tr>\n",
              "      <th>Contract</th>\n",
              "      <td>0</td>\n",
              "    </tr>\n",
              "    <tr>\n",
              "      <th>PaperlessBilling</th>\n",
              "      <td>0</td>\n",
              "    </tr>\n",
              "    <tr>\n",
              "      <th>PaymentMethod</th>\n",
              "      <td>0</td>\n",
              "    </tr>\n",
              "    <tr>\n",
              "      <th>MonthlyCharges</th>\n",
              "      <td>0</td>\n",
              "    </tr>\n",
              "    <tr>\n",
              "      <th>TotalCharges</th>\n",
              "      <td>0</td>\n",
              "    </tr>\n",
              "    <tr>\n",
              "      <th>Churn</th>\n",
              "      <td>0</td>\n",
              "    </tr>\n",
              "  </tbody>\n",
              "</table>\n",
              "</div><br><label><b>dtype:</b> int64</label>"
            ]
          },
          "metadata": {},
          "execution_count": 5
        }
      ]
    },
    {
      "cell_type": "markdown",
      "source": [
        "Convert Total Charges and Monthly Charges to numeric and inspect missing:"
      ],
      "metadata": {
        "id": "2aggZAywRUsX"
      }
    },
    {
      "cell_type": "code",
      "source": [
        "df['TotalCharges'] = pd.to_numeric(df['TotalCharges'], errors='coerce')\n",
        "df['MonthlyCharges'] = pd.to_numeric(df['MonthlyCharges'], errors='coerce')\n",
        "print(\"TotalCharges NaN:\", df['TotalCharges'].isna().sum())\n",
        "\n",
        "df = df.dropna(subset=['TotalCharges'])\n"
      ],
      "metadata": {
        "colab": {
          "base_uri": "https://localhost:8080/"
        },
        "id": "0R1TZieDRRPo",
        "outputId": "4cd24391-23ef-46af-8625-400675163cda"
      },
      "execution_count": 6,
      "outputs": [
        {
          "output_type": "stream",
          "name": "stdout",
          "text": [
            "TotalCharges NaN: 11\n"
          ]
        }
      ]
    },
    {
      "cell_type": "markdown",
      "source": [
        "Drop duplicates:"
      ],
      "metadata": {
        "id": "vIFF5kB81r62"
      }
    },
    {
      "cell_type": "code",
      "source": [
        "df=df.drop_duplicates()"
      ],
      "metadata": {
        "id": "hUPvdFvk5Cjq"
      },
      "execution_count": 7,
      "outputs": []
    },
    {
      "cell_type": "markdown",
      "source": [
        "Columns:"
      ],
      "metadata": {
        "id": "x7h8COgv1vEj"
      }
    },
    {
      "cell_type": "code",
      "source": [
        "df.columns.tolist()"
      ],
      "metadata": {
        "colab": {
          "base_uri": "https://localhost:8080/"
        },
        "id": "uBD0B787NqHo",
        "outputId": "71cb68f1-d7a6-4c77-b24e-f68fcbf56378"
      },
      "execution_count": 8,
      "outputs": [
        {
          "output_type": "execute_result",
          "data": {
            "text/plain": [
              "['customerID',\n",
              " 'gender',\n",
              " 'SeniorCitizen',\n",
              " 'Partner',\n",
              " 'Dependents',\n",
              " 'tenure',\n",
              " 'PhoneService',\n",
              " 'MultipleLines',\n",
              " 'InternetService',\n",
              " 'OnlineSecurity',\n",
              " 'OnlineBackup',\n",
              " 'DeviceProtection',\n",
              " 'TechSupport',\n",
              " 'StreamingTV',\n",
              " 'StreamingMovies',\n",
              " 'Contract',\n",
              " 'PaperlessBilling',\n",
              " 'PaymentMethod',\n",
              " 'MonthlyCharges',\n",
              " 'TotalCharges',\n",
              " 'Churn']"
            ]
          },
          "metadata": {},
          "execution_count": 8
        }
      ]
    },
    {
      "cell_type": "code",
      "source": [
        "df.info()"
      ],
      "metadata": {
        "colab": {
          "base_uri": "https://localhost:8080/"
        },
        "id": "2Mo3CpSlTDti",
        "outputId": "7d7ab8d8-4bc4-4a90-89c4-0085a8346b4f"
      },
      "execution_count": 32,
      "outputs": [
        {
          "output_type": "stream",
          "name": "stdout",
          "text": [
            "<class 'pandas.core.frame.DataFrame'>\n",
            "Index: 7032 entries, 0 to 7042\n",
            "Data columns (total 21 columns):\n",
            " #   Column            Non-Null Count  Dtype  \n",
            "---  ------            --------------  -----  \n",
            " 0   customerID        7032 non-null   object \n",
            " 1   gender            7032 non-null   object \n",
            " 2   SeniorCitizen     7032 non-null   int64  \n",
            " 3   Partner           7032 non-null   object \n",
            " 4   Dependents        7032 non-null   object \n",
            " 5   tenure            7032 non-null   int64  \n",
            " 6   PhoneService      7032 non-null   object \n",
            " 7   MultipleLines     7032 non-null   object \n",
            " 8   InternetService   7032 non-null   object \n",
            " 9   OnlineSecurity    7032 non-null   object \n",
            " 10  OnlineBackup      7032 non-null   object \n",
            " 11  DeviceProtection  7032 non-null   object \n",
            " 12  TechSupport       7032 non-null   object \n",
            " 13  StreamingTV       7032 non-null   object \n",
            " 14  StreamingMovies   7032 non-null   object \n",
            " 15  Contract          7032 non-null   object \n",
            " 16  PaperlessBilling  7032 non-null   object \n",
            " 17  PaymentMethod     7032 non-null   object \n",
            " 18  MonthlyCharges    7032 non-null   float64\n",
            " 19  TotalCharges      7032 non-null   float64\n",
            " 20  Churn             7032 non-null   object \n",
            "dtypes: float64(2), int64(2), object(17)\n",
            "memory usage: 1.2+ MB\n"
          ]
        }
      ]
    },
    {
      "cell_type": "markdown",
      "source": [
        "## 2. Create SQLite Database"
      ],
      "metadata": {
        "id": "aDv6gt7f5cSt"
      }
    },
    {
      "cell_type": "markdown",
      "source": [
        "Create database:"
      ],
      "metadata": {
        "id": "zQq7Lqxv13DX"
      }
    },
    {
      "cell_type": "code",
      "source": [
        "import sqlite3\n",
        "\n",
        "con=sqlite3.connect(\"TelcoCustomer.db\")"
      ],
      "metadata": {
        "id": "Jh86iTkk5djN"
      },
      "execution_count": 9,
      "outputs": []
    },
    {
      "cell_type": "markdown",
      "source": [
        "Push DataFrame into SQL table:"
      ],
      "metadata": {
        "id": "MZZDiTpB19oF"
      }
    },
    {
      "cell_type": "code",
      "source": [
        "df.to_sql(\"Telco\",con, if_exists=\"replace\", index=False)"
      ],
      "metadata": {
        "colab": {
          "base_uri": "https://localhost:8080/"
        },
        "id": "i685pvtW5dvv",
        "outputId": "2a3204c4-e27a-4262-d567-6e16d99f0c9c"
      },
      "execution_count": 10,
      "outputs": [
        {
          "output_type": "execute_result",
          "data": {
            "text/plain": [
              "7032"
            ]
          },
          "metadata": {},
          "execution_count": 10
        }
      ]
    },
    {
      "cell_type": "markdown",
      "source": [
        "Install SQL magic and load SQL extension:"
      ],
      "metadata": {
        "id": "xQmBWZ9T2CqP"
      }
    },
    {
      "cell_type": "code",
      "source": [
        "!pip install ipython-sql prettytable\n",
        "import prettytable\n",
        "prettytable.DEFAULT='DEFAULT'\n",
        "\n",
        "%load_ext sql\n",
        "%sql sqlite:///TelcoCustomer.db"
      ],
      "metadata": {
        "colab": {
          "base_uri": "https://localhost:8080/"
        },
        "id": "L1BQ6ES45iIC",
        "outputId": "849828a4-f912-42ad-e097-d70208cd65dd"
      },
      "execution_count": 11,
      "outputs": [
        {
          "output_type": "stream",
          "name": "stdout",
          "text": [
            "Requirement already satisfied: ipython-sql in /usr/local/lib/python3.12/dist-packages (0.5.0)\n",
            "Requirement already satisfied: prettytable in /usr/local/lib/python3.12/dist-packages (3.16.0)\n",
            "Requirement already satisfied: ipython in /usr/local/lib/python3.12/dist-packages (from ipython-sql) (7.34.0)\n",
            "Requirement already satisfied: sqlalchemy>=2.0 in /usr/local/lib/python3.12/dist-packages (from ipython-sql) (2.0.43)\n",
            "Requirement already satisfied: sqlparse in /usr/local/lib/python3.12/dist-packages (from ipython-sql) (0.5.3)\n",
            "Requirement already satisfied: six in /usr/local/lib/python3.12/dist-packages (from ipython-sql) (1.17.0)\n",
            "Requirement already satisfied: ipython-genutils in /usr/local/lib/python3.12/dist-packages (from ipython-sql) (0.2.0)\n",
            "Requirement already satisfied: wcwidth in /usr/local/lib/python3.12/dist-packages (from prettytable) (0.2.13)\n",
            "Requirement already satisfied: greenlet>=1 in /usr/local/lib/python3.12/dist-packages (from sqlalchemy>=2.0->ipython-sql) (3.2.4)\n",
            "Requirement already satisfied: typing-extensions>=4.6.0 in /usr/local/lib/python3.12/dist-packages (from sqlalchemy>=2.0->ipython-sql) (4.15.0)\n",
            "Requirement already satisfied: setuptools>=18.5 in /usr/local/lib/python3.12/dist-packages (from ipython->ipython-sql) (75.2.0)\n",
            "Requirement already satisfied: jedi>=0.16 in /usr/local/lib/python3.12/dist-packages (from ipython->ipython-sql) (0.19.2)\n",
            "Requirement already satisfied: decorator in /usr/local/lib/python3.12/dist-packages (from ipython->ipython-sql) (4.4.2)\n",
            "Requirement already satisfied: pickleshare in /usr/local/lib/python3.12/dist-packages (from ipython->ipython-sql) (0.7.5)\n",
            "Requirement already satisfied: traitlets>=4.2 in /usr/local/lib/python3.12/dist-packages (from ipython->ipython-sql) (5.7.1)\n",
            "Requirement already satisfied: prompt-toolkit!=3.0.0,!=3.0.1,<3.1.0,>=2.0.0 in /usr/local/lib/python3.12/dist-packages (from ipython->ipython-sql) (3.0.52)\n",
            "Requirement already satisfied: pygments in /usr/local/lib/python3.12/dist-packages (from ipython->ipython-sql) (2.19.2)\n",
            "Requirement already satisfied: backcall in /usr/local/lib/python3.12/dist-packages (from ipython->ipython-sql) (0.2.0)\n",
            "Requirement already satisfied: matplotlib-inline in /usr/local/lib/python3.12/dist-packages (from ipython->ipython-sql) (0.1.7)\n",
            "Requirement already satisfied: pexpect>4.3 in /usr/local/lib/python3.12/dist-packages (from ipython->ipython-sql) (4.9.0)\n",
            "Requirement already satisfied: parso<0.9.0,>=0.8.4 in /usr/local/lib/python3.12/dist-packages (from jedi>=0.16->ipython->ipython-sql) (0.8.5)\n",
            "Requirement already satisfied: ptyprocess>=0.5 in /usr/local/lib/python3.12/dist-packages (from pexpect>4.3->ipython->ipython-sql) (0.7.0)\n"
          ]
        }
      ]
    },
    {
      "cell_type": "markdown",
      "source": [
        "Check schema:"
      ],
      "metadata": {
        "id": "EOOWh3zE2Ou0"
      }
    },
    {
      "cell_type": "code",
      "source": [
        "%sql SELECT name, type FROM PRAGMA_TABLE_INFO('Telco')"
      ],
      "metadata": {
        "colab": {
          "base_uri": "https://localhost:8080/",
          "height": 524
        },
        "id": "FTw1BmebSZ0x",
        "outputId": "cf00f19d-70fc-45e3-a034-a50d9265e7d9"
      },
      "execution_count": 12,
      "outputs": [
        {
          "output_type": "stream",
          "name": "stdout",
          "text": [
            " * sqlite:///TelcoCustomer.db\n",
            "Done.\n"
          ]
        },
        {
          "output_type": "execute_result",
          "data": {
            "text/plain": [
              "[('customerID', 'TEXT'),\n",
              " ('gender', 'TEXT'),\n",
              " ('SeniorCitizen', 'INTEGER'),\n",
              " ('Partner', 'TEXT'),\n",
              " ('Dependents', 'TEXT'),\n",
              " ('tenure', 'INTEGER'),\n",
              " ('PhoneService', 'TEXT'),\n",
              " ('MultipleLines', 'TEXT'),\n",
              " ('InternetService', 'TEXT'),\n",
              " ('OnlineSecurity', 'TEXT'),\n",
              " ('OnlineBackup', 'TEXT'),\n",
              " ('DeviceProtection', 'TEXT'),\n",
              " ('TechSupport', 'TEXT'),\n",
              " ('StreamingTV', 'TEXT'),\n",
              " ('StreamingMovies', 'TEXT'),\n",
              " ('Contract', 'TEXT'),\n",
              " ('PaperlessBilling', 'TEXT'),\n",
              " ('PaymentMethod', 'TEXT'),\n",
              " ('MonthlyCharges', 'REAL'),\n",
              " ('TotalCharges', 'REAL'),\n",
              " ('Churn', 'TEXT')]"
            ],
            "text/html": [
              "<table>\n",
              "    <thead>\n",
              "        <tr>\n",
              "            <th>name</th>\n",
              "            <th>type</th>\n",
              "        </tr>\n",
              "    </thead>\n",
              "    <tbody>\n",
              "        <tr>\n",
              "            <td>customerID</td>\n",
              "            <td>TEXT</td>\n",
              "        </tr>\n",
              "        <tr>\n",
              "            <td>gender</td>\n",
              "            <td>TEXT</td>\n",
              "        </tr>\n",
              "        <tr>\n",
              "            <td>SeniorCitizen</td>\n",
              "            <td>INTEGER</td>\n",
              "        </tr>\n",
              "        <tr>\n",
              "            <td>Partner</td>\n",
              "            <td>TEXT</td>\n",
              "        </tr>\n",
              "        <tr>\n",
              "            <td>Dependents</td>\n",
              "            <td>TEXT</td>\n",
              "        </tr>\n",
              "        <tr>\n",
              "            <td>tenure</td>\n",
              "            <td>INTEGER</td>\n",
              "        </tr>\n",
              "        <tr>\n",
              "            <td>PhoneService</td>\n",
              "            <td>TEXT</td>\n",
              "        </tr>\n",
              "        <tr>\n",
              "            <td>MultipleLines</td>\n",
              "            <td>TEXT</td>\n",
              "        </tr>\n",
              "        <tr>\n",
              "            <td>InternetService</td>\n",
              "            <td>TEXT</td>\n",
              "        </tr>\n",
              "        <tr>\n",
              "            <td>OnlineSecurity</td>\n",
              "            <td>TEXT</td>\n",
              "        </tr>\n",
              "        <tr>\n",
              "            <td>OnlineBackup</td>\n",
              "            <td>TEXT</td>\n",
              "        </tr>\n",
              "        <tr>\n",
              "            <td>DeviceProtection</td>\n",
              "            <td>TEXT</td>\n",
              "        </tr>\n",
              "        <tr>\n",
              "            <td>TechSupport</td>\n",
              "            <td>TEXT</td>\n",
              "        </tr>\n",
              "        <tr>\n",
              "            <td>StreamingTV</td>\n",
              "            <td>TEXT</td>\n",
              "        </tr>\n",
              "        <tr>\n",
              "            <td>StreamingMovies</td>\n",
              "            <td>TEXT</td>\n",
              "        </tr>\n",
              "        <tr>\n",
              "            <td>Contract</td>\n",
              "            <td>TEXT</td>\n",
              "        </tr>\n",
              "        <tr>\n",
              "            <td>PaperlessBilling</td>\n",
              "            <td>TEXT</td>\n",
              "        </tr>\n",
              "        <tr>\n",
              "            <td>PaymentMethod</td>\n",
              "            <td>TEXT</td>\n",
              "        </tr>\n",
              "        <tr>\n",
              "            <td>MonthlyCharges</td>\n",
              "            <td>REAL</td>\n",
              "        </tr>\n",
              "        <tr>\n",
              "            <td>TotalCharges</td>\n",
              "            <td>REAL</td>\n",
              "        </tr>\n",
              "        <tr>\n",
              "            <td>Churn</td>\n",
              "            <td>TEXT</td>\n",
              "        </tr>\n",
              "    </tbody>\n",
              "</table>"
            ]
          },
          "metadata": {},
          "execution_count": 12
        }
      ]
    },
    {
      "cell_type": "markdown",
      "source": [
        "## 3. Exploratory Data Analysis"
      ],
      "metadata": {
        "id": "GSqhhS2G56qH"
      }
    },
    {
      "cell_type": "markdown",
      "source": [
        "### Total Customers:"
      ],
      "metadata": {
        "id": "erWCY6Ybv3Bv"
      }
    },
    {
      "cell_type": "code",
      "source": [
        "%sql SELECT COUNT(*) FROM Telco"
      ],
      "metadata": {
        "colab": {
          "base_uri": "https://localhost:8080/",
          "height": 96
        },
        "id": "KNulKTmA0rLT",
        "outputId": "d925be1f-b241-40f6-92d8-0c8d129826eb"
      },
      "execution_count": 13,
      "outputs": [
        {
          "output_type": "stream",
          "name": "stdout",
          "text": [
            " * sqlite:///TelcoCustomer.db\n",
            "Done.\n"
          ]
        },
        {
          "output_type": "execute_result",
          "data": {
            "text/plain": [
              "[(7032,)]"
            ],
            "text/html": [
              "<table>\n",
              "    <thead>\n",
              "        <tr>\n",
              "            <th>COUNT(*)</th>\n",
              "        </tr>\n",
              "    </thead>\n",
              "    <tbody>\n",
              "        <tr>\n",
              "            <td>7032</td>\n",
              "        </tr>\n",
              "    </tbody>\n",
              "</table>"
            ]
          },
          "metadata": {},
          "execution_count": 13
        }
      ]
    },
    {
      "cell_type": "markdown",
      "source": [
        "### Overall Churn Rate:"
      ],
      "metadata": {
        "id": "AYNBcpaLwmSj"
      }
    },
    {
      "cell_type": "code",
      "source": [
        "%sql SELECT Churn, COUNT(*) AS num_customers, \\\n",
        "ROUND(100.0 * COUNT(*) / (SELECT COUNT(*) FROM Telco), 2) AS churn_percentage \\\n",
        "FROM Telco \\\n",
        "GROUP BY Churn\n"
      ],
      "metadata": {
        "colab": {
          "base_uri": "https://localhost:8080/",
          "height": 118
        },
        "id": "eUBKT6hV0wSb",
        "outputId": "79813ee8-5ebf-401b-b1c0-4e675e186fd7"
      },
      "execution_count": 14,
      "outputs": [
        {
          "output_type": "stream",
          "name": "stdout",
          "text": [
            " * sqlite:///TelcoCustomer.db\n",
            "Done.\n"
          ]
        },
        {
          "output_type": "execute_result",
          "data": {
            "text/plain": [
              "[('No', 5163, 73.42), ('Yes', 1869, 26.58)]"
            ],
            "text/html": [
              "<table>\n",
              "    <thead>\n",
              "        <tr>\n",
              "            <th>Churn</th>\n",
              "            <th>num_customers</th>\n",
              "            <th>churn_percentage</th>\n",
              "        </tr>\n",
              "    </thead>\n",
              "    <tbody>\n",
              "        <tr>\n",
              "            <td>No</td>\n",
              "            <td>5163</td>\n",
              "            <td>73.42</td>\n",
              "        </tr>\n",
              "        <tr>\n",
              "            <td>Yes</td>\n",
              "            <td>1869</td>\n",
              "            <td>26.58</td>\n",
              "        </tr>\n",
              "    </tbody>\n",
              "</table>"
            ]
          },
          "metadata": {},
          "execution_count": 14
        }
      ]
    },
    {
      "cell_type": "markdown",
      "source": [
        "26.5% of customers have churned, showing over a quarter of the customer is at risk."
      ],
      "metadata": {
        "id": "sEqhM84y28e5"
      }
    },
    {
      "cell_type": "markdown",
      "source": [
        "### Churn by Demographic:"
      ],
      "metadata": {
        "id": "iQfF_o5RwpGw"
      }
    },
    {
      "cell_type": "markdown",
      "source": [
        "By Gender:"
      ],
      "metadata": {
        "id": "te3Ju3Cm6WqM"
      }
    },
    {
      "cell_type": "code",
      "source": [
        "%sql SELECT gender, Churn, COUNT(*) AS num_customers \\\n",
        "FROM Telco \\\n",
        "GROUP BY gender, Churn\n"
      ],
      "metadata": {
        "colab": {
          "base_uri": "https://localhost:8080/",
          "height": 161
        },
        "id": "a1_pDySZ1CVT",
        "outputId": "682e5b91-1d96-44db-9d7d-9369f07202d1"
      },
      "execution_count": 15,
      "outputs": [
        {
          "output_type": "stream",
          "name": "stdout",
          "text": [
            " * sqlite:///TelcoCustomer.db\n",
            "Done.\n"
          ]
        },
        {
          "output_type": "execute_result",
          "data": {
            "text/plain": [
              "[('Female', 'No', 2544),\n",
              " ('Female', 'Yes', 939),\n",
              " ('Male', 'No', 2619),\n",
              " ('Male', 'Yes', 930)]"
            ],
            "text/html": [
              "<table>\n",
              "    <thead>\n",
              "        <tr>\n",
              "            <th>gender</th>\n",
              "            <th>Churn</th>\n",
              "            <th>num_customers</th>\n",
              "        </tr>\n",
              "    </thead>\n",
              "    <tbody>\n",
              "        <tr>\n",
              "            <td>Female</td>\n",
              "            <td>No</td>\n",
              "            <td>2544</td>\n",
              "        </tr>\n",
              "        <tr>\n",
              "            <td>Female</td>\n",
              "            <td>Yes</td>\n",
              "            <td>939</td>\n",
              "        </tr>\n",
              "        <tr>\n",
              "            <td>Male</td>\n",
              "            <td>No</td>\n",
              "            <td>2619</td>\n",
              "        </tr>\n",
              "        <tr>\n",
              "            <td>Male</td>\n",
              "            <td>Yes</td>\n",
              "            <td>930</td>\n",
              "        </tr>\n",
              "    </tbody>\n",
              "</table>"
            ]
          },
          "metadata": {},
          "execution_count": 15
        }
      ]
    },
    {
      "cell_type": "markdown",
      "source": [
        " Both genders churn at a similar rate (~26%), showing gender is not a significant driver of churn."
      ],
      "metadata": {
        "id": "2h1OcjMvEG0_"
      }
    },
    {
      "cell_type": "markdown",
      "source": [
        "By Senior Citizen:"
      ],
      "metadata": {
        "id": "8M9uQV4V6aAi"
      }
    },
    {
      "cell_type": "code",
      "source": [
        "%sql SELECT SeniorCitizen, Churn, COUNT(*) AS num_customers \\\n",
        "FROM Telco \\\n",
        "GROUP BY SeniorCitizen, Churn\n"
      ],
      "metadata": {
        "colab": {
          "base_uri": "https://localhost:8080/",
          "height": 161
        },
        "id": "C76W4okL6FAu",
        "outputId": "a212a506-23d0-4293-cf21-d45c2613e7ae"
      },
      "execution_count": 16,
      "outputs": [
        {
          "output_type": "stream",
          "name": "stdout",
          "text": [
            " * sqlite:///TelcoCustomer.db\n",
            "Done.\n"
          ]
        },
        {
          "output_type": "execute_result",
          "data": {
            "text/plain": [
              "[(0, 'No', 4497), (0, 'Yes', 1393), (1, 'No', 666), (1, 'Yes', 476)]"
            ],
            "text/html": [
              "<table>\n",
              "    <thead>\n",
              "        <tr>\n",
              "            <th>SeniorCitizen</th>\n",
              "            <th>Churn</th>\n",
              "            <th>num_customers</th>\n",
              "        </tr>\n",
              "    </thead>\n",
              "    <tbody>\n",
              "        <tr>\n",
              "            <td>0</td>\n",
              "            <td>No</td>\n",
              "            <td>4497</td>\n",
              "        </tr>\n",
              "        <tr>\n",
              "            <td>0</td>\n",
              "            <td>Yes</td>\n",
              "            <td>1393</td>\n",
              "        </tr>\n",
              "        <tr>\n",
              "            <td>1</td>\n",
              "            <td>No</td>\n",
              "            <td>666</td>\n",
              "        </tr>\n",
              "        <tr>\n",
              "            <td>1</td>\n",
              "            <td>Yes</td>\n",
              "            <td>476</td>\n",
              "        </tr>\n",
              "    </tbody>\n",
              "</table>"
            ]
          },
          "metadata": {},
          "execution_count": 16
        }
      ]
    },
    {
      "cell_type": "markdown",
      "source": [
        "41.7% of seniors churn vs only 23.6% of non-seniors indicating seniors are a high-risk group."
      ],
      "metadata": {
        "id": "TJapR1S66g_h"
      }
    },
    {
      "cell_type": "markdown",
      "source": [
        "By Partner & Dependents:"
      ],
      "metadata": {
        "id": "QQa2rGI1wtq7"
      }
    },
    {
      "cell_type": "code",
      "source": [
        "%sql SELECT Partner, Dependents, Churn, COUNT(*) AS num_customers \\\n",
        "FROM Telco \\\n",
        "GROUP BY Partner, Dependents, Churn \\\n",
        "ORDER BY num_customers DESC\n"
      ],
      "metadata": {
        "colab": {
          "base_uri": "https://localhost:8080/",
          "height": 246
        },
        "id": "NIIdj9Q0m3qd",
        "outputId": "a38cbc2b-04cb-42b2-ef79-e730e08e65b5"
      },
      "execution_count": 17,
      "outputs": [
        {
          "output_type": "stream",
          "name": "stdout",
          "text": [
            " * sqlite:///TelcoCustomer.db\n",
            "Done.\n"
          ]
        },
        {
          "output_type": "execute_result",
          "data": {
            "text/plain": [
              "[('No', 'No', 'No', 2157),\n",
              " ('Yes', 'Yes', 'No', 1491),\n",
              " ('Yes', 'No', 'No', 1233),\n",
              " ('No', 'No', 'Yes', 1123),\n",
              " ('Yes', 'No', 'Yes', 420),\n",
              " ('No', 'Yes', 'No', 282),\n",
              " ('Yes', 'Yes', 'Yes', 249),\n",
              " ('No', 'Yes', 'Yes', 77)]"
            ],
            "text/html": [
              "<table>\n",
              "    <thead>\n",
              "        <tr>\n",
              "            <th>Partner</th>\n",
              "            <th>Dependents</th>\n",
              "            <th>Churn</th>\n",
              "            <th>num_customers</th>\n",
              "        </tr>\n",
              "    </thead>\n",
              "    <tbody>\n",
              "        <tr>\n",
              "            <td>No</td>\n",
              "            <td>No</td>\n",
              "            <td>No</td>\n",
              "            <td>2157</td>\n",
              "        </tr>\n",
              "        <tr>\n",
              "            <td>Yes</td>\n",
              "            <td>Yes</td>\n",
              "            <td>No</td>\n",
              "            <td>1491</td>\n",
              "        </tr>\n",
              "        <tr>\n",
              "            <td>Yes</td>\n",
              "            <td>No</td>\n",
              "            <td>No</td>\n",
              "            <td>1233</td>\n",
              "        </tr>\n",
              "        <tr>\n",
              "            <td>No</td>\n",
              "            <td>No</td>\n",
              "            <td>Yes</td>\n",
              "            <td>1123</td>\n",
              "        </tr>\n",
              "        <tr>\n",
              "            <td>Yes</td>\n",
              "            <td>No</td>\n",
              "            <td>Yes</td>\n",
              "            <td>420</td>\n",
              "        </tr>\n",
              "        <tr>\n",
              "            <td>No</td>\n",
              "            <td>Yes</td>\n",
              "            <td>No</td>\n",
              "            <td>282</td>\n",
              "        </tr>\n",
              "        <tr>\n",
              "            <td>Yes</td>\n",
              "            <td>Yes</td>\n",
              "            <td>Yes</td>\n",
              "            <td>249</td>\n",
              "        </tr>\n",
              "        <tr>\n",
              "            <td>No</td>\n",
              "            <td>Yes</td>\n",
              "            <td>Yes</td>\n",
              "            <td>77</td>\n",
              "        </tr>\n",
              "    </tbody>\n",
              "</table>"
            ]
          },
          "metadata": {},
          "execution_count": 17
        }
      ]
    },
    {
      "cell_type": "markdown",
      "source": [
        "Customers without partners/dependents are more likely to churn."
      ],
      "metadata": {
        "id": "I9tR9h6DCdBe"
      }
    },
    {
      "cell_type": "markdown",
      "source": [
        "### Churn by Services & Contracts:"
      ],
      "metadata": {
        "id": "jn6GCIRtyEi8"
      }
    },
    {
      "cell_type": "markdown",
      "source": [
        "Internet Service:"
      ],
      "metadata": {
        "id": "xY9PPQ5F7AlI"
      }
    },
    {
      "cell_type": "code",
      "source": [
        "%sql SELECT InternetService, Churn, COUNT(*) AS num_customers \\\n",
        "FROM Telco \\\n",
        "GROUP BY InternetService, Churn"
      ],
      "metadata": {
        "colab": {
          "base_uri": "https://localhost:8080/",
          "height": 203
        },
        "id": "lx61xD4y1O9N",
        "outputId": "038241a9-a26b-460d-9522-058b41d64698"
      },
      "execution_count": 18,
      "outputs": [
        {
          "output_type": "stream",
          "name": "stdout",
          "text": [
            " * sqlite:///TelcoCustomer.db\n",
            "Done.\n"
          ]
        },
        {
          "output_type": "execute_result",
          "data": {
            "text/plain": [
              "[('DSL', 'No', 1957),\n",
              " ('DSL', 'Yes', 459),\n",
              " ('Fiber optic', 'No', 1799),\n",
              " ('Fiber optic', 'Yes', 1297),\n",
              " ('No', 'No', 1407),\n",
              " ('No', 'Yes', 113)]"
            ],
            "text/html": [
              "<table>\n",
              "    <thead>\n",
              "        <tr>\n",
              "            <th>InternetService</th>\n",
              "            <th>Churn</th>\n",
              "            <th>num_customers</th>\n",
              "        </tr>\n",
              "    </thead>\n",
              "    <tbody>\n",
              "        <tr>\n",
              "            <td>DSL</td>\n",
              "            <td>No</td>\n",
              "            <td>1957</td>\n",
              "        </tr>\n",
              "        <tr>\n",
              "            <td>DSL</td>\n",
              "            <td>Yes</td>\n",
              "            <td>459</td>\n",
              "        </tr>\n",
              "        <tr>\n",
              "            <td>Fiber optic</td>\n",
              "            <td>No</td>\n",
              "            <td>1799</td>\n",
              "        </tr>\n",
              "        <tr>\n",
              "            <td>Fiber optic</td>\n",
              "            <td>Yes</td>\n",
              "            <td>1297</td>\n",
              "        </tr>\n",
              "        <tr>\n",
              "            <td>No</td>\n",
              "            <td>No</td>\n",
              "            <td>1407</td>\n",
              "        </tr>\n",
              "        <tr>\n",
              "            <td>No</td>\n",
              "            <td>Yes</td>\n",
              "            <td>113</td>\n",
              "        </tr>\n",
              "    </tbody>\n",
              "</table>"
            ]
          },
          "metadata": {},
          "execution_count": 18
        }
      ]
    },
    {
      "cell_type": "markdown",
      "source": [
        "Fiber optic customers show the highest churn rate (42%), much higher than DSL (19%). This suggests internet service type is a key driver of churn."
      ],
      "metadata": {
        "id": "TuYnt_5vFE2Z"
      }
    },
    {
      "cell_type": "markdown",
      "source": [
        "Contract Type:"
      ],
      "metadata": {
        "id": "jelTnYjg7EKG"
      }
    },
    {
      "cell_type": "code",
      "source": [
        "%sql SELECT Contract, Churn, COUNT(*) AS num_customers \\\n",
        "FROM Telco \\\n",
        "GROUP BY Contract, Churn"
      ],
      "metadata": {
        "colab": {
          "base_uri": "https://localhost:8080/",
          "height": 203
        },
        "id": "Tv31iPeWO7ms",
        "outputId": "e5b6965e-2e5f-4aed-f613-b739a905924a"
      },
      "execution_count": 19,
      "outputs": [
        {
          "output_type": "stream",
          "name": "stdout",
          "text": [
            " * sqlite:///TelcoCustomer.db\n",
            "Done.\n"
          ]
        },
        {
          "output_type": "execute_result",
          "data": {
            "text/plain": [
              "[('Month-to-month', 'No', 2220),\n",
              " ('Month-to-month', 'Yes', 1655),\n",
              " ('One year', 'No', 1306),\n",
              " ('One year', 'Yes', 166),\n",
              " ('Two year', 'No', 1637),\n",
              " ('Two year', 'Yes', 48)]"
            ],
            "text/html": [
              "<table>\n",
              "    <thead>\n",
              "        <tr>\n",
              "            <th>Contract</th>\n",
              "            <th>Churn</th>\n",
              "            <th>num_customers</th>\n",
              "        </tr>\n",
              "    </thead>\n",
              "    <tbody>\n",
              "        <tr>\n",
              "            <td>Month-to-month</td>\n",
              "            <td>No</td>\n",
              "            <td>2220</td>\n",
              "        </tr>\n",
              "        <tr>\n",
              "            <td>Month-to-month</td>\n",
              "            <td>Yes</td>\n",
              "            <td>1655</td>\n",
              "        </tr>\n",
              "        <tr>\n",
              "            <td>One year</td>\n",
              "            <td>No</td>\n",
              "            <td>1306</td>\n",
              "        </tr>\n",
              "        <tr>\n",
              "            <td>One year</td>\n",
              "            <td>Yes</td>\n",
              "            <td>166</td>\n",
              "        </tr>\n",
              "        <tr>\n",
              "            <td>Two year</td>\n",
              "            <td>No</td>\n",
              "            <td>1637</td>\n",
              "        </tr>\n",
              "        <tr>\n",
              "            <td>Two year</td>\n",
              "            <td>Yes</td>\n",
              "            <td>48</td>\n",
              "        </tr>\n",
              "    </tbody>\n",
              "</table>"
            ]
          },
          "metadata": {},
          "execution_count": 19
        }
      ]
    },
    {
      "cell_type": "markdown",
      "source": [
        "Visualizing churn by contract type:\n"
      ],
      "metadata": {
        "id": "rA9T2pAhyMId"
      }
    },
    {
      "cell_type": "code",
      "source": [
        "import matplotlib.pyplot as plt\n",
        "\n",
        "churn_contract = df.groupby([\"Contract\", \"Churn\"]).size().unstack()\n",
        "churn_contract.plot(kind=\"bar\", color=[\"skyblue\", \"salmon\"], stacked=True)\n",
        "plt.title(\"Churn by Contract Type\")\n",
        "plt.ylabel(\"Number of Customers\")\n",
        "plt.show()\n"
      ],
      "metadata": {
        "colab": {
          "base_uri": "https://localhost:8080/",
          "height": 570
        },
        "id": "cWNPKPTBwQN5",
        "outputId": "b410c878-6354-4b54-c66f-51c5c4dd25d6"
      },
      "execution_count": 34,
      "outputs": [
        {
          "output_type": "display_data",
          "data": {
            "text/plain": [
              "<Figure size 640x480 with 1 Axes>"
            ],
            "image/png": "[encoded data removed]"
          },
          "metadata": {}
        }
      ]
    },
    {
      "cell_type": "markdown",
      "source": [
        "Month-to-month contracts have the highest churn, while long-term contracts greatly reduce churn risk."
      ],
      "metadata": {
        "id": "TKFLv_Bl7Nz4"
      }
    },
    {
      "cell_type": "markdown",
      "source": [
        "### Financial Analysis:"
      ],
      "metadata": {
        "id": "QOZzqCw2yTHo"
      }
    },
    {
      "cell_type": "markdown",
      "source": [
        "Average Monthly Charges:"
      ],
      "metadata": {
        "id": "Spk9XzNQ7YnH"
      }
    },
    {
      "cell_type": "code",
      "source": [
        "%sql SELECT Churn, AVG(MonthlyCharges) AS avg_monthly_charge \\\n",
        "FROM Telco \\\n",
        "GROUP BY Churn"
      ],
      "metadata": {
        "colab": {
          "base_uri": "https://localhost:8080/",
          "height": 118
        },
        "id": "jEef77LLPIVj",
        "outputId": "9eab797c-467a-4c90-f20c-6eaa6c2cbc86"
      },
      "execution_count": 21,
      "outputs": [
        {
          "output_type": "stream",
          "name": "stdout",
          "text": [
            " * sqlite:///TelcoCustomer.db\n",
            "Done.\n"
          ]
        },
        {
          "output_type": "execute_result",
          "data": {
            "text/plain": [
              "[('No', 61.30740848343966), ('Yes', 74.4413322632423)]"
            ],
            "text/html": [
              "<table>\n",
              "    <thead>\n",
              "        <tr>\n",
              "            <th>Churn</th>\n",
              "            <th>avg_monthly_charge</th>\n",
              "        </tr>\n",
              "    </thead>\n",
              "    <tbody>\n",
              "        <tr>\n",
              "            <td>No</td>\n",
              "            <td>61.30740848343966</td>\n",
              "        </tr>\n",
              "        <tr>\n",
              "            <td>Yes</td>\n",
              "            <td>74.4413322632423</td>\n",
              "        </tr>\n",
              "    </tbody>\n",
              "</table>"
            ]
          },
          "metadata": {},
          "execution_count": 21
        }
      ]
    },
    {
      "cell_type": "markdown",
      "source": [
        "Customers with higher monthly charges are more likely to churn, linking higher costs to dissatisfaction."
      ],
      "metadata": {
        "id": "I1U7hjhYyU5K"
      }
    },
    {
      "cell_type": "markdown",
      "source": [
        "Highest Monthly Charge:"
      ],
      "metadata": {
        "id": "_w5wMKawyYgD"
      }
    },
    {
      "cell_type": "code",
      "source": [
        "%sql SELECT MAX(MonthlyCharges) AS MAX_MONTHLY_CHARGE FROM Telco"
      ],
      "metadata": {
        "colab": {
          "base_uri": "https://localhost:8080/",
          "height": 96
        },
        "id": "fP7e4w3fgGFX",
        "outputId": "7cd1fc95-f736-4138-e056-b3d13c224ee3"
      },
      "execution_count": 22,
      "outputs": [
        {
          "output_type": "stream",
          "name": "stdout",
          "text": [
            " * sqlite:///TelcoCustomer.db\n",
            "Done.\n"
          ]
        },
        {
          "output_type": "execute_result",
          "data": {
            "text/plain": [
              "[(118.75,)]"
            ],
            "text/html": [
              "<table>\n",
              "    <thead>\n",
              "        <tr>\n",
              "            <th>MAX_MONTHLY_CHARGE</th>\n",
              "        </tr>\n",
              "    </thead>\n",
              "    <tbody>\n",
              "        <tr>\n",
              "            <td>118.75</td>\n",
              "        </tr>\n",
              "    </tbody>\n",
              "</table>"
            ]
          },
          "metadata": {},
          "execution_count": 22
        }
      ]
    },
    {
      "cell_type": "markdown",
      "source": [
        "Services of the Highest-Paying Customer:"
      ],
      "metadata": {
        "id": "kfb3lOVZyepJ"
      }
    },
    {
      "cell_type": "code",
      "source": [
        "%sql SELECT PhoneService, MultipleLines, InternetService, OnlineSecurity, OnlineBackup, DeviceProtection, TechSupport, StreamingTV, StreamingMovies \\\n",
        "FROM Telco WHERE MonthlyCharges = (SELECT MAX(MonthlyCharges) FROM Telco )"
      ],
      "metadata": {
        "colab": {
          "base_uri": "https://localhost:8080/",
          "height": 116
        },
        "id": "8wJvz6RqgVzj",
        "outputId": "97f2b7be-05eb-4cf9-c675-ee7144b57657"
      },
      "execution_count": 23,
      "outputs": [
        {
          "output_type": "stream",
          "name": "stdout",
          "text": [
            " * sqlite:///TelcoCustomer.db\n",
            "Done.\n"
          ]
        },
        {
          "output_type": "execute_result",
          "data": {
            "text/plain": [
              "[('Yes', 'Yes', 'Fiber optic', 'Yes', 'Yes', 'Yes', 'Yes', 'Yes', 'Yes')]"
            ],
            "text/html": [
              "<table>\n",
              "    <thead>\n",
              "        <tr>\n",
              "            <th>PhoneService</th>\n",
              "            <th>MultipleLines</th>\n",
              "            <th>InternetService</th>\n",
              "            <th>OnlineSecurity</th>\n",
              "            <th>OnlineBackup</th>\n",
              "            <th>DeviceProtection</th>\n",
              "            <th>TechSupport</th>\n",
              "            <th>StreamingTV</th>\n",
              "            <th>StreamingMovies</th>\n",
              "        </tr>\n",
              "    </thead>\n",
              "    <tbody>\n",
              "        <tr>\n",
              "            <td>Yes</td>\n",
              "            <td>Yes</td>\n",
              "            <td>Fiber optic</td>\n",
              "            <td>Yes</td>\n",
              "            <td>Yes</td>\n",
              "            <td>Yes</td>\n",
              "            <td>Yes</td>\n",
              "            <td>Yes</td>\n",
              "            <td>Yes</td>\n",
              "        </tr>\n",
              "    </tbody>\n",
              "</table>"
            ]
          },
          "metadata": {},
          "execution_count": 23
        }
      ]
    },
    {
      "cell_type": "markdown",
      "source": [
        "The top-paying customer uses nearly all services (including fiber optic), making them highly valuable but also at high risk of churn."
      ],
      "metadata": {
        "id": "1RaTUNtLGDZZ"
      }
    },
    {
      "cell_type": "markdown",
      "source": [
        "Lost Revenue from Churned Customers:"
      ],
      "metadata": {
        "id": "uTwg890y7sz3"
      }
    },
    {
      "cell_type": "code",
      "source": [
        "%sql SELECT SUM(MonthlyCharges) AS lost_revenue \\\n",
        "FROM Telco \\\n",
        "WHERE Churn = 'Yes'\n"
      ],
      "metadata": {
        "colab": {
          "base_uri": "https://localhost:8080/",
          "height": 96
        },
        "id": "dFzYZgZMPSRC",
        "outputId": "52cb6a45-4962-4709-a942-884a5771e1f4"
      },
      "execution_count": 24,
      "outputs": [
        {
          "output_type": "stream",
          "name": "stdout",
          "text": [
            " * sqlite:///TelcoCustomer.db\n",
            "Done.\n"
          ]
        },
        {
          "output_type": "execute_result",
          "data": {
            "text/plain": [
              "[(139130.84999999986,)]"
            ],
            "text/html": [
              "<table>\n",
              "    <thead>\n",
              "        <tr>\n",
              "            <th>lost_revenue</th>\n",
              "        </tr>\n",
              "    </thead>\n",
              "    <tbody>\n",
              "        <tr>\n",
              "            <td>139130.84999999986</td>\n",
              "        </tr>\n",
              "    </tbody>\n",
              "</table>"
            ]
          },
          "metadata": {},
          "execution_count": 24
        }
      ]
    },
    {
      "cell_type": "markdown",
      "source": [
        "Churned customers account for ~ USD 139K lost monthly revenue (~ USD 1.6M annually).\n"
      ],
      "metadata": {
        "id": "rBH_lv6mG_Le"
      }
    },
    {
      "cell_type": "markdown",
      "source": [
        "### Top Customers:"
      ],
      "metadata": {
        "id": "bITMEoCl7yDI"
      }
    },
    {
      "cell_type": "markdown",
      "source": [
        "Top 10 by Total Charges:"
      ],
      "metadata": {
        "id": "ARcJaLu1ykqs"
      }
    },
    {
      "cell_type": "code",
      "source": [
        "%sql SELECT * FROM Telco \\\n",
        "ORDER BY TotalCharges DESC LIMIT 10"
      ],
      "metadata": {
        "colab": {
          "base_uri": "https://localhost:8080/",
          "height": 482
        },
        "id": "OLtymsbSXGZo",
        "outputId": "20b0e21d-2e4d-4c1b-9692-653d797117b1"
      },
      "execution_count": 25,
      "outputs": [
        {
          "output_type": "stream",
          "name": "stdout",
          "text": [
            " * sqlite:///TelcoCustomer.db\n",
            "Done.\n"
          ]
        },
        {
          "output_type": "execute_result",
          "data": {
            "text/plain": [
              "[('2889-FPWRM', 'Male', 0, 'Yes', 'No', 72, 'Yes', 'Yes', 'Fiber optic', 'Yes', 'Yes', 'Yes', 'Yes', 'Yes', 'Yes', 'One year', 'Yes', 'Bank transfer (automatic)', 117.8, 8684.8, 'Yes'),\n",
              " ('7569-NMZYQ', 'Female', 0, 'Yes', 'Yes', 72, 'Yes', 'Yes', 'Fiber optic', 'Yes', 'Yes', 'Yes', 'Yes', 'Yes', 'Yes', 'Two year', 'Yes', 'Bank transfer (automatic)', 118.75, 8672.45, 'No'),\n",
              " ('9739-JLPQJ', 'Female', 0, 'Yes', 'Yes', 72, 'Yes', 'Yes', 'Fiber optic', 'Yes', 'Yes', 'Yes', 'Yes', 'Yes', 'Yes', 'Two year', 'No', 'Credit card (automatic)', 117.5, 8670.1, 'No'),\n",
              " ('9788-HNGUT', 'Male', 0, 'Yes', 'No', 72, 'Yes', 'Yes', 'Fiber optic', 'Yes', 'Yes', 'Yes', 'Yes', 'Yes', 'Yes', 'Two year', 'Yes', 'Credit card (automatic)', 116.95, 8594.4, 'No'),\n",
              " ('8879-XUAHX', 'Male', 0, 'Yes', 'No', 71, 'Yes', 'Yes', 'Fiber optic', 'Yes', 'Yes', 'Yes', 'Yes', 'Yes', 'Yes', 'Two year', 'Yes', 'Electronic check', 116.25, 8564.75, 'No'),\n",
              " ('9924-JPRMC', 'Male', 0, 'No', 'No', 72, 'Yes', 'Yes', 'Fiber optic', 'Yes', 'Yes', 'Yes', 'Yes', 'Yes', 'Yes', 'Two year', 'Yes', 'Electronic check', 118.2, 8547.15, 'No'),\n",
              " ('0675-NCDYU', 'Female', 0, 'Yes', 'Yes', 72, 'Yes', 'Yes', 'Fiber optic', 'Yes', 'Yes', 'Yes', 'Yes', 'Yes', 'Yes', 'Two year', 'Yes', 'Credit card (automatic)', 116.4, 8543.25, 'No'),\n",
              " ('6650-BWFRT', 'Female', 0, 'Yes', 'No', 72, 'Yes', 'Yes', 'Fiber optic', 'Yes', 'Yes', 'Yes', 'Yes', 'Yes', 'Yes', 'Two year', 'Yes', 'Credit card (automatic)', 117.15, 8529.5, 'No'),\n",
              " ('0164-APGRB', 'Female', 0, 'No', 'No', 72, 'Yes', 'Yes', 'Fiber optic', 'Yes', 'Yes', 'Yes', 'Yes', 'Yes', 'Yes', 'Two year', 'Yes', 'Electronic check', 114.9, 8496.7, 'No'),\n",
              " ('1488-PBLJN', 'Female', 0, 'Yes', 'Yes', 72, 'Yes', 'Yes', 'Fiber optic', 'Yes', 'Yes', 'Yes', 'Yes', 'Yes', 'Yes', 'Two year', 'Yes', 'Bank transfer (automatic)', 116.85, 8477.7, 'No')]"
            ],
            "text/html": [
              "<table>\n",
              "    <thead>\n",
              "        <tr>\n",
              "            <th>customerID</th>\n",
              "            <th>gender</th>\n",
              "            <th>SeniorCitizen</th>\n",
              "            <th>Partner</th>\n",
              "            <th>Dependents</th>\n",
              "            <th>tenure</th>\n",
              "            <th>PhoneService</th>\n",
              "            <th>MultipleLines</th>\n",
              "            <th>InternetService</th>\n",
              "            <th>OnlineSecurity</th>\n",
              "            <th>OnlineBackup</th>\n",
              "            <th>DeviceProtection</th>\n",
              "            <th>TechSupport</th>\n",
              "            <th>StreamingTV</th>\n",
              "            <th>StreamingMovies</th>\n",
              "            <th>Contract</th>\n",
              "            <th>PaperlessBilling</th>\n",
              "            <th>PaymentMethod</th>\n",
              "            <th>MonthlyCharges</th>\n",
              "            <th>TotalCharges</th>\n",
              "            <th>Churn</th>\n",
              "        </tr>\n",
              "    </thead>\n",
              "    <tbody>\n",
              "        <tr>\n",
              "            <td>2889-FPWRM</td>\n",
              "            <td>Male</td>\n",
              "            <td>0</td>\n",
              "            <td>Yes</td>\n",
              "            <td>No</td>\n",
              "            <td>72</td>\n",
              "            <td>Yes</td>\n",
              "            <td>Yes</td>\n",
              "            <td>Fiber optic</td>\n",
              "            <td>Yes</td>\n",
              "            <td>Yes</td>\n",
              "            <td>Yes</td>\n",
              "            <td>Yes</td>\n",
              "            <td>Yes</td>\n",
              "            <td>Yes</td>\n",
              "            <td>One year</td>\n",
              "            <td>Yes</td>\n",
              "            <td>Bank transfer (automatic)</td>\n",
              "            <td>117.8</td>\n",
              "            <td>8684.8</td>\n",
              "            <td>Yes</td>\n",
              "        </tr>\n",
              "        <tr>\n",
              "            <td>7569-NMZYQ</td>\n",
              "            <td>Female</td>\n",
              "            <td>0</td>\n",
              "            <td>Yes</td>\n",
              "            <td>Yes</td>\n",
              "            <td>72</td>\n",
              "            <td>Yes</td>\n",
              "            <td>Yes</td>\n",
              "            <td>Fiber optic</td>\n",
              "            <td>Yes</td>\n",
              "            <td>Yes</td>\n",
              "            <td>Yes</td>\n",
              "            <td>Yes</td>\n",
              "            <td>Yes</td>\n",
              "            <td>Yes</td>\n",
              "            <td>Two year</td>\n",
              "            <td>Yes</td>\n",
              "            <td>Bank transfer (automatic)</td>\n",
              "            <td>118.75</td>\n",
              "            <td>8672.45</td>\n",
              "            <td>No</td>\n",
              "        </tr>\n",
              "        <tr>\n",
              "            <td>9739-JLPQJ</td>\n",
              "            <td>Female</td>\n",
              "            <td>0</td>\n",
              "            <td>Yes</td>\n",
              "            <td>Yes</td>\n",
              "            <td>72</td>\n",
              "            <td>Yes</td>\n",
              "            <td>Yes</td>\n",
              "            <td>Fiber optic</td>\n",
              "            <td>Yes</td>\n",
              "            <td>Yes</td>\n",
              "            <td>Yes</td>\n",
              "            <td>Yes</td>\n",
              "            <td>Yes</td>\n",
              "            <td>Yes</td>\n",
              "            <td>Two year</td>\n",
              "            <td>No</td>\n",
              "            <td>Credit card (automatic)</td>\n",
              "            <td>117.5</td>\n",
              "            <td>8670.1</td>\n",
              "            <td>No</td>\n",
              "        </tr>\n",
              "        <tr>\n",
              "            <td>9788-HNGUT</td>\n",
              "            <td>Male</td>\n",
              "            <td>0</td>\n",
              "            <td>Yes</td>\n",
              "            <td>No</td>\n",
              "            <td>72</td>\n",
              "            <td>Yes</td>\n",
              "            <td>Yes</td>\n",
              "            <td>Fiber optic</td>\n",
              "            <td>Yes</td>\n",
              "            <td>Yes</td>\n",
              "            <td>Yes</td>\n",
              "            <td>Yes</td>\n",
              "            <td>Yes</td>\n",
              "            <td>Yes</td>\n",
              "            <td>Two year</td>\n",
              "            <td>Yes</td>\n",
              "            <td>Credit card (automatic)</td>\n",
              "            <td>116.95</td>\n",
              "            <td>8594.4</td>\n",
              "            <td>No</td>\n",
              "        </tr>\n",
              "        <tr>\n",
              "            <td>8879-XUAHX</td>\n",
              "            <td>Male</td>\n",
              "            <td>0</td>\n",
              "            <td>Yes</td>\n",
              "            <td>No</td>\n",
              "            <td>71</td>\n",
              "            <td>Yes</td>\n",
              "            <td>Yes</td>\n",
              "            <td>Fiber optic</td>\n",
              "            <td>Yes</td>\n",
              "            <td>Yes</td>\n",
              "            <td>Yes</td>\n",
              "            <td>Yes</td>\n",
              "            <td>Yes</td>\n",
              "            <td>Yes</td>\n",
              "            <td>Two year</td>\n",
              "            <td>Yes</td>\n",
              "            <td>Electronic check</td>\n",
              "            <td>116.25</td>\n",
              "            <td>8564.75</td>\n",
              "            <td>No</td>\n",
              "        </tr>\n",
              "        <tr>\n",
              "            <td>9924-JPRMC</td>\n",
              "            <td>Male</td>\n",
              "            <td>0</td>\n",
              "            <td>No</td>\n",
              "            <td>No</td>\n",
              "            <td>72</td>\n",
              "            <td>Yes</td>\n",
              "            <td>Yes</td>\n",
              "            <td>Fiber optic</td>\n",
              "            <td>Yes</td>\n",
              "            <td>Yes</td>\n",
              "            <td>Yes</td>\n",
              "            <td>Yes</td>\n",
              "            <td>Yes</td>\n",
              "            <td>Yes</td>\n",
              "            <td>Two year</td>\n",
              "            <td>Yes</td>\n",
              "            <td>Electronic check</td>\n",
              "            <td>118.2</td>\n",
              "            <td>8547.15</td>\n",
              "            <td>No</td>\n",
              "        </tr>\n",
              "        <tr>\n",
              "            <td>0675-NCDYU</td>\n",
              "            <td>Female</td>\n",
              "            <td>0</td>\n",
              "            <td>Yes</td>\n",
              "            <td>Yes</td>\n",
              "            <td>72</td>\n",
              "            <td>Yes</td>\n",
              "            <td>Yes</td>\n",
              "            <td>Fiber optic</td>\n",
              "            <td>Yes</td>\n",
              "            <td>Yes</td>\n",
              "            <td>Yes</td>\n",
              "            <td>Yes</td>\n",
              "            <td>Yes</td>\n",
              "            <td>Yes</td>\n",
              "            <td>Two year</td>\n",
              "            <td>Yes</td>\n",
              "            <td>Credit card (automatic)</td>\n",
              "            <td>116.4</td>\n",
              "            <td>8543.25</td>\n",
              "            <td>No</td>\n",
              "        </tr>\n",
              "        <tr>\n",
              "            <td>6650-BWFRT</td>\n",
              "            <td>Female</td>\n",
              "            <td>0</td>\n",
              "            <td>Yes</td>\n",
              "            <td>No</td>\n",
              "            <td>72</td>\n",
              "            <td>Yes</td>\n",
              "            <td>Yes</td>\n",
              "            <td>Fiber optic</td>\n",
              "            <td>Yes</td>\n",
              "            <td>Yes</td>\n",
              "            <td>Yes</td>\n",
              "            <td>Yes</td>\n",
              "            <td>Yes</td>\n",
              "            <td>Yes</td>\n",
              "            <td>Two year</td>\n",
              "            <td>Yes</td>\n",
              "            <td>Credit card (automatic)</td>\n",
              "            <td>117.15</td>\n",
              "            <td>8529.5</td>\n",
              "            <td>No</td>\n",
              "        </tr>\n",
              "        <tr>\n",
              "            <td>0164-APGRB</td>\n",
              "            <td>Female</td>\n",
              "            <td>0</td>\n",
              "            <td>No</td>\n",
              "            <td>No</td>\n",
              "            <td>72</td>\n",
              "            <td>Yes</td>\n",
              "            <td>Yes</td>\n",
              "            <td>Fiber optic</td>\n",
              "            <td>Yes</td>\n",
              "            <td>Yes</td>\n",
              "            <td>Yes</td>\n",
              "            <td>Yes</td>\n",
              "            <td>Yes</td>\n",
              "            <td>Yes</td>\n",
              "            <td>Two year</td>\n",
              "            <td>Yes</td>\n",
              "            <td>Electronic check</td>\n",
              "            <td>114.9</td>\n",
              "            <td>8496.7</td>\n",
              "            <td>No</td>\n",
              "        </tr>\n",
              "        <tr>\n",
              "            <td>1488-PBLJN</td>\n",
              "            <td>Female</td>\n",
              "            <td>0</td>\n",
              "            <td>Yes</td>\n",
              "            <td>Yes</td>\n",
              "            <td>72</td>\n",
              "            <td>Yes</td>\n",
              "            <td>Yes</td>\n",
              "            <td>Fiber optic</td>\n",
              "            <td>Yes</td>\n",
              "            <td>Yes</td>\n",
              "            <td>Yes</td>\n",
              "            <td>Yes</td>\n",
              "            <td>Yes</td>\n",
              "            <td>Yes</td>\n",
              "            <td>Two year</td>\n",
              "            <td>Yes</td>\n",
              "            <td>Bank transfer (automatic)</td>\n",
              "            <td>116.85</td>\n",
              "            <td>8477.7</td>\n",
              "            <td>No</td>\n",
              "        </tr>\n",
              "    </tbody>\n",
              "</table>"
            ]
          },
          "metadata": {},
          "execution_count": 25
        }
      ]
    },
    {
      "cell_type": "markdown",
      "source": [
        "Visualizing churn status in top 10 highest paying customers:"
      ],
      "metadata": {
        "id": "PW_Z76f1az-S"
      }
    },
    {
      "cell_type": "code",
      "source": [
        "top10 = %sql SELECT customerID, Churn, TotalCharges \\\n",
        "             FROM Telco \\\n",
        "             ORDER BY TotalCharges DESC LIMIT 10;\n",
        "\n",
        "top10_df = top10.DataFrame()\n",
        "\n",
        "churn_counts = top10_df['Churn'].value_counts()\n",
        "\n",
        "churn_counts.plot(kind=\"bar\", color=[\"skyblue\", \"salmon\"])\n",
        "plt.title(\"Churn Status in Top 10 Highest Paying Customers\")\n",
        "plt.ylabel(\"Number of Customers\")\n",
        "plt.xlabel(\"Churn Status\")\n",
        "plt.xticks(rotation=0)\n",
        "plt.show()\n"
      ],
      "metadata": {
        "colab": {
          "base_uri": "https://localhost:8080/",
          "height": 507
        },
        "id": "loeqoQl0Ix9E",
        "outputId": "be7dbf62-c40d-444a-869a-1b635d43fc90"
      },
      "execution_count": 26,
      "outputs": [
        {
          "output_type": "stream",
          "name": "stdout",
          "text": [
            " * sqlite:///TelcoCustomer.db\n",
            "Done.\n"
          ]
        },
        {
          "output_type": "display_data",
          "data": {
            "text/plain": [
              "<Figure size 640x480 with 1 Axes>"
            ],
            "image/png": "[encoded data removed]"
          },
          "metadata": {}
        }
      ]
    },
    {
      "cell_type": "markdown",
      "source": [
        "2 of the Top 10 highest-paying customers churned, proving even premium customers are vulnerable."
      ],
      "metadata": {
        "id": "jLXAc_HSIMVr"
      }
    },
    {
      "cell_type": "markdown",
      "source": [
        "### Payment Methods:"
      ],
      "metadata": {
        "id": "KBXBSyucyqDH"
      }
    },
    {
      "cell_type": "code",
      "source": [
        "%sql SELECT PaymentMethod, Churn, COUNT(*) AS num_customers \\\n",
        "FROM Telco \\\n",
        "GROUP BY PaymentMethod, Churn \\\n",
        "ORDER BY PaymentMethod, num_customers DESC"
      ],
      "metadata": {
        "colab": {
          "base_uri": "https://localhost:8080/",
          "height": 246
        },
        "id": "s7Jct9khXWOD",
        "outputId": "6d49fccb-9b82-452a-a744-35b0fe827e33"
      },
      "execution_count": 27,
      "outputs": [
        {
          "output_type": "stream",
          "name": "stdout",
          "text": [
            " * sqlite:///TelcoCustomer.db\n",
            "Done.\n"
          ]
        },
        {
          "output_type": "execute_result",
          "data": {
            "text/plain": [
              "[('Bank transfer (automatic)', 'No', 1284),\n",
              " ('Bank transfer (automatic)', 'Yes', 258),\n",
              " ('Credit card (automatic)', 'No', 1289),\n",
              " ('Credit card (automatic)', 'Yes', 232),\n",
              " ('Electronic check', 'No', 1294),\n",
              " ('Electronic check', 'Yes', 1071),\n",
              " ('Mailed check', 'No', 1296),\n",
              " ('Mailed check', 'Yes', 308)]"
            ],
            "text/html": [
              "<table>\n",
              "    <thead>\n",
              "        <tr>\n",
              "            <th>PaymentMethod</th>\n",
              "            <th>Churn</th>\n",
              "            <th>num_customers</th>\n",
              "        </tr>\n",
              "    </thead>\n",
              "    <tbody>\n",
              "        <tr>\n",
              "            <td>Bank transfer (automatic)</td>\n",
              "            <td>No</td>\n",
              "            <td>1284</td>\n",
              "        </tr>\n",
              "        <tr>\n",
              "            <td>Bank transfer (automatic)</td>\n",
              "            <td>Yes</td>\n",
              "            <td>258</td>\n",
              "        </tr>\n",
              "        <tr>\n",
              "            <td>Credit card (automatic)</td>\n",
              "            <td>No</td>\n",
              "            <td>1289</td>\n",
              "        </tr>\n",
              "        <tr>\n",
              "            <td>Credit card (automatic)</td>\n",
              "            <td>Yes</td>\n",
              "            <td>232</td>\n",
              "        </tr>\n",
              "        <tr>\n",
              "            <td>Electronic check</td>\n",
              "            <td>No</td>\n",
              "            <td>1294</td>\n",
              "        </tr>\n",
              "        <tr>\n",
              "            <td>Electronic check</td>\n",
              "            <td>Yes</td>\n",
              "            <td>1071</td>\n",
              "        </tr>\n",
              "        <tr>\n",
              "            <td>Mailed check</td>\n",
              "            <td>No</td>\n",
              "            <td>1296</td>\n",
              "        </tr>\n",
              "        <tr>\n",
              "            <td>Mailed check</td>\n",
              "            <td>Yes</td>\n",
              "            <td>308</td>\n",
              "        </tr>\n",
              "    </tbody>\n",
              "</table>"
            ]
          },
          "metadata": {},
          "execution_count": 27
        }
      ]
    },
    {
      "cell_type": "markdown",
      "source": [
        "Visualizing churn by payment method:"
      ],
      "metadata": {
        "id": "4gA1CIfvbEPv"
      }
    },
    {
      "cell_type": "code",
      "source": [
        "churn_payment = df.groupby([\"PaymentMethod\", \"Churn\"]).size().unstack()\n",
        "churn_payment.plot(kind=\"bar\", color=[\"skyblue\", \"salmon\"], stacked=True)\n",
        "plt.title(\"Churn by Payment Method\")\n",
        "plt.ylabel(\"Number of Customers\")\n",
        "plt.show()"
      ],
      "metadata": {
        "colab": {
          "base_uri": "https://localhost:8080/",
          "height": 638
        },
        "id": "k51JshWSCoZ-",
        "outputId": "3cf9403a-212f-4f2b-e270-c25d93173e53"
      },
      "execution_count": 33,
      "outputs": [
        {
          "output_type": "display_data",
          "data": {
            "text/plain": [
              "<Figure size 640x480 with 1 Axes>"
            ],
            "image/png": "[encoded data removed]"
          },
          "metadata": {}
        }
      ]
    },
    {
      "cell_type": "markdown",
      "source": [
        "Customers paying with electronic checks churn the most, making this group a key target for retention."
      ],
      "metadata": {
        "id": "u5AUs_jIyuDM"
      }
    },
    {
      "cell_type": "markdown",
      "source": [
        "### Bundled Services:"
      ],
      "metadata": {
        "id": "koO5oHwNy2-F"
      }
    },
    {
      "cell_type": "code",
      "source": [
        "%sql SELECT PhoneService, InternetService, StreamingTV, StreamingMovies, Churn, \\\n",
        "COUNT(*) AS num_customers FROM Telco \\\n",
        "GROUP BY PhoneService, InternetService, StreamingTV, StreamingMovies, Churn \\\n",
        "ORDER BY num_customers DESC;"
      ],
      "metadata": {
        "colab": {
          "base_uri": "https://localhost:8080/",
          "height": 630
        },
        "id": "P37z7YFzb_EL",
        "outputId": "102ac550-df3d-434b-898a-87e3ba146f13"
      },
      "execution_count": 29,
      "outputs": [
        {
          "output_type": "stream",
          "name": "stdout",
          "text": [
            " * sqlite:///TelcoCustomer.db\n",
            "Done.\n"
          ]
        },
        {
          "output_type": "execute_result",
          "data": {
            "text/plain": [
              "[('Yes', 'No', 'No internet service', 'No internet service', 'No', 1407),\n",
              " ('Yes', 'Fiber optic', 'Yes', 'Yes', 'No', 817),\n",
              " ('Yes', 'DSL', 'No', 'No', 'No', 617),\n",
              " ('Yes', 'Fiber optic', 'Yes', 'Yes', 'Yes', 493),\n",
              " ('Yes', 'Fiber optic', 'No', 'No', 'No', 483),\n",
              " ('Yes', 'Fiber optic', 'No', 'No', 'Yes', 422),\n",
              " ('Yes', 'DSL', 'Yes', 'Yes', 'No', 394),\n",
              " ('Yes', 'Fiber optic', 'No', 'Yes', 'No', 253),\n",
              " ('Yes', 'Fiber optic', 'Yes', 'No', 'No', 246),\n",
              " ('Yes', 'DSL', 'No', 'Yes', 'No', 223),\n",
              " ('No', 'DSL', 'No', 'No', 'No', 222),\n",
              " ('Yes', 'DSL', 'Yes', 'No', 'No', 213),\n",
              " ('Yes', 'DSL', 'No', 'No', 'Yes', 196),\n",
              " ('Yes', 'Fiber optic', 'Yes', 'No', 'Yes', 194),\n",
              " ('Yes', 'Fiber optic', 'No', 'Yes', 'Yes', 188),\n",
              " ('No', 'DSL', 'Yes', 'Yes', 'No', 157),\n",
              " ('Yes', 'No', 'No internet service', 'No internet service', 'Yes', 113),\n",
              " ('No', 'DSL', 'No', 'No', 'Yes', 77),\n",
              " ('No', 'DSL', 'No', 'Yes', 'No', 69),\n",
              " ('No', 'DSL', 'Yes', 'No', 'No', 62),\n",
              " ('No', 'DSL', 'Yes', 'Yes', 'Yes', 43),\n",
              " ('Yes', 'DSL', 'Yes', 'Yes', 'Yes', 35),\n",
              " ('Yes', 'DSL', 'No', 'Yes', 'Yes', 30),\n",
              " ('No', 'DSL', 'No', 'Yes', 'Yes', 29),\n",
              " ('Yes', 'DSL', 'Yes', 'No', 'Yes', 28),\n",
              " ('No', 'DSL', 'Yes', 'No', 'Yes', 21)]"
            ],
            "text/html": [
              "<table>\n",
              "    <thead>\n",
              "        <tr>\n",
              "            <th>PhoneService</th>\n",
              "            <th>InternetService</th>\n",
              "            <th>StreamingTV</th>\n",
              "            <th>StreamingMovies</th>\n",
              "            <th>Churn</th>\n",
              "            <th>num_customers</th>\n",
              "        </tr>\n",
              "    </thead>\n",
              "    <tbody>\n",
              "        <tr>\n",
              "            <td>Yes</td>\n",
              "            <td>No</td>\n",
              "            <td>No internet service</td>\n",
              "            <td>No internet service</td>\n",
              "            <td>No</td>\n",
              "            <td>1407</td>\n",
              "        </tr>\n",
              "        <tr>\n",
              "            <td>Yes</td>\n",
              "            <td>Fiber optic</td>\n",
              "            <td>Yes</td>\n",
              "            <td>Yes</td>\n",
              "            <td>No</td>\n",
              "            <td>817</td>\n",
              "        </tr>\n",
              "        <tr>\n",
              "            <td>Yes</td>\n",
              "            <td>DSL</td>\n",
              "            <td>No</td>\n",
              "            <td>No</td>\n",
              "            <td>No</td>\n",
              "            <td>617</td>\n",
              "        </tr>\n",
              "        <tr>\n",
              "            <td>Yes</td>\n",
              "            <td>Fiber optic</td>\n",
              "            <td>Yes</td>\n",
              "            <td>Yes</td>\n",
              "            <td>Yes</td>\n",
              "            <td>493</td>\n",
              "        </tr>\n",
              "        <tr>\n",
              "            <td>Yes</td>\n",
              "            <td>Fiber optic</td>\n",
              "            <td>No</td>\n",
              "            <td>No</td>\n",
              "            <td>No</td>\n",
              "            <td>483</td>\n",
              "        </tr>\n",
              "        <tr>\n",
              "            <td>Yes</td>\n",
              "            <td>Fiber optic</td>\n",
              "            <td>No</td>\n",
              "            <td>No</td>\n",
              "            <td>Yes</td>\n",
              "            <td>422</td>\n",
              "        </tr>\n",
              "        <tr>\n",
              "            <td>Yes</td>\n",
              "            <td>DSL</td>\n",
              "            <td>Yes</td>\n",
              "            <td>Yes</td>\n",
              "            <td>No</td>\n",
              "            <td>394</td>\n",
              "        </tr>\n",
              "        <tr>\n",
              "            <td>Yes</td>\n",
              "            <td>Fiber optic</td>\n",
              "            <td>No</td>\n",
              "            <td>Yes</td>\n",
              "            <td>No</td>\n",
              "            <td>253</td>\n",
              "        </tr>\n",
              "        <tr>\n",
              "            <td>Yes</td>\n",
              "            <td>Fiber optic</td>\n",
              "            <td>Yes</td>\n",
              "            <td>No</td>\n",
              "            <td>No</td>\n",
              "            <td>246</td>\n",
              "        </tr>\n",
              "        <tr>\n",
              "            <td>Yes</td>\n",
              "            <td>DSL</td>\n",
              "            <td>No</td>\n",
              "            <td>Yes</td>\n",
              "            <td>No</td>\n",
              "            <td>223</td>\n",
              "        </tr>\n",
              "        <tr>\n",
              "            <td>No</td>\n",
              "            <td>DSL</td>\n",
              "            <td>No</td>\n",
              "            <td>No</td>\n",
              "            <td>No</td>\n",
              "            <td>222</td>\n",
              "        </tr>\n",
              "        <tr>\n",
              "            <td>Yes</td>\n",
              "            <td>DSL</td>\n",
              "            <td>Yes</td>\n",
              "            <td>No</td>\n",
              "            <td>No</td>\n",
              "            <td>213</td>\n",
              "        </tr>\n",
              "        <tr>\n",
              "            <td>Yes</td>\n",
              "            <td>DSL</td>\n",
              "            <td>No</td>\n",
              "            <td>No</td>\n",
              "            <td>Yes</td>\n",
              "            <td>196</td>\n",
              "        </tr>\n",
              "        <tr>\n",
              "            <td>Yes</td>\n",
              "            <td>Fiber optic</td>\n",
              "            <td>Yes</td>\n",
              "            <td>No</td>\n",
              "            <td>Yes</td>\n",
              "            <td>194</td>\n",
              "        </tr>\n",
              "        <tr>\n",
              "            <td>Yes</td>\n",
              "            <td>Fiber optic</td>\n",
              "            <td>No</td>\n",
              "            <td>Yes</td>\n",
              "            <td>Yes</td>\n",
              "            <td>188</td>\n",
              "        </tr>\n",
              "        <tr>\n",
              "            <td>No</td>\n",
              "            <td>DSL</td>\n",
              "            <td>Yes</td>\n",
              "            <td>Yes</td>\n",
              "            <td>No</td>\n",
              "            <td>157</td>\n",
              "        </tr>\n",
              "        <tr>\n",
              "            <td>Yes</td>\n",
              "            <td>No</td>\n",
              "            <td>No internet service</td>\n",
              "            <td>No internet service</td>\n",
              "            <td>Yes</td>\n",
              "            <td>113</td>\n",
              "        </tr>\n",
              "        <tr>\n",
              "            <td>No</td>\n",
              "            <td>DSL</td>\n",
              "            <td>No</td>\n",
              "            <td>No</td>\n",
              "            <td>Yes</td>\n",
              "            <td>77</td>\n",
              "        </tr>\n",
              "        <tr>\n",
              "            <td>No</td>\n",
              "            <td>DSL</td>\n",
              "            <td>No</td>\n",
              "            <td>Yes</td>\n",
              "            <td>No</td>\n",
              "            <td>69</td>\n",
              "        </tr>\n",
              "        <tr>\n",
              "            <td>No</td>\n",
              "            <td>DSL</td>\n",
              "            <td>Yes</td>\n",
              "            <td>No</td>\n",
              "            <td>No</td>\n",
              "            <td>62</td>\n",
              "        </tr>\n",
              "        <tr>\n",
              "            <td>No</td>\n",
              "            <td>DSL</td>\n",
              "            <td>Yes</td>\n",
              "            <td>Yes</td>\n",
              "            <td>Yes</td>\n",
              "            <td>43</td>\n",
              "        </tr>\n",
              "        <tr>\n",
              "            <td>Yes</td>\n",
              "            <td>DSL</td>\n",
              "            <td>Yes</td>\n",
              "            <td>Yes</td>\n",
              "            <td>Yes</td>\n",
              "            <td>35</td>\n",
              "        </tr>\n",
              "        <tr>\n",
              "            <td>Yes</td>\n",
              "            <td>DSL</td>\n",
              "            <td>No</td>\n",
              "            <td>Yes</td>\n",
              "            <td>Yes</td>\n",
              "            <td>30</td>\n",
              "        </tr>\n",
              "        <tr>\n",
              "            <td>No</td>\n",
              "            <td>DSL</td>\n",
              "            <td>No</td>\n",
              "            <td>Yes</td>\n",
              "            <td>Yes</td>\n",
              "            <td>29</td>\n",
              "        </tr>\n",
              "        <tr>\n",
              "            <td>Yes</td>\n",
              "            <td>DSL</td>\n",
              "            <td>Yes</td>\n",
              "            <td>No</td>\n",
              "            <td>Yes</td>\n",
              "            <td>28</td>\n",
              "        </tr>\n",
              "        <tr>\n",
              "            <td>No</td>\n",
              "            <td>DSL</td>\n",
              "            <td>Yes</td>\n",
              "            <td>No</td>\n",
              "            <td>Yes</td>\n",
              "            <td>21</td>\n",
              "        </tr>\n",
              "    </tbody>\n",
              "</table>"
            ]
          },
          "metadata": {},
          "execution_count": 29
        }
      ]
    },
    {
      "cell_type": "markdown",
      "source": [
        "Customers with only phone service are the most loyal, while fiber optic bundles with multiple add-ons see higher churn."
      ],
      "metadata": {
        "id": "XBAWL-SwKfxA"
      }
    },
    {
      "cell_type": "markdown",
      "source": [
        "### Average Total Charges by Churn:"
      ],
      "metadata": {
        "id": "1AHRCTj1y-af"
      }
    },
    {
      "cell_type": "code",
      "source": [
        "%sql SELECT Churn, AVG(TotalCharges) AS avg_total_charges \\\n",
        "FROM Telco GROUP BY Churn"
      ],
      "metadata": {
        "colab": {
          "base_uri": "https://localhost:8080/",
          "height": 118
        },
        "id": "ZP4TZb3XuxOT",
        "outputId": "f0916065-7dad-4f1b-dbb3-42745ec50750"
      },
      "execution_count": 30,
      "outputs": [
        {
          "output_type": "stream",
          "name": "stdout",
          "text": [
            " * sqlite:///TelcoCustomer.db\n",
            "Done.\n"
          ]
        },
        {
          "output_type": "execute_result",
          "data": {
            "text/plain": [
              "[('No', 2555.3441410032997), ('Yes', 1531.7960941680035)]"
            ],
            "text/html": [
              "<table>\n",
              "    <thead>\n",
              "        <tr>\n",
              "            <th>Churn</th>\n",
              "            <th>avg_total_charges</th>\n",
              "        </tr>\n",
              "    </thead>\n",
              "    <tbody>\n",
              "        <tr>\n",
              "            <td>No</td>\n",
              "            <td>2555.3441410032997</td>\n",
              "        </tr>\n",
              "        <tr>\n",
              "            <td>Yes</td>\n",
              "            <td>1531.7960941680035</td>\n",
              "        </tr>\n",
              "    </tbody>\n",
              "</table>"
            ]
          },
          "metadata": {},
          "execution_count": 30
        }
      ]
    },
    {
      "cell_type": "markdown",
      "source": [
        "Loyal customers (non-churn) tend to have higher average total charges than those who leave."
      ],
      "metadata": {
        "id": "to4AsVlYzCaJ"
      }
    },
    {
      "cell_type": "markdown",
      "source": [
        "## 4. Conclusion:\n",
        "\n",
        "### Key Findings\n",
        "- **Churn rate**: 26.5%\n",
        "- **Higher churn risk**: seniors, customers without partners/dependents, and those on month-to-month contracts.  \n",
        "- **Service risk**: fiber optic internet & high monthly charges linked to churn.  \n",
        "- **Payment method**: electronic check users churn the most.  \n",
        "- **Revenue**: loyal customers spend more overall.\n",
        "\n",
        "\n",
        "### Business Recommendations\n",
        "- Promote long-term contracts to reduce churn.  \n",
        "- Offer targeted retention deals for seniors & high-charge customers.  \n",
        "- Encourage alternative payment methods instead of electronic checks\n"
      ],
      "metadata": {
        "id": "mtBH_8SE87qV"
      }
    },
    {
      "cell_type": "code",
      "source": [],
      "metadata": {
        "id": "-b_wLptpu5ta"
      },
      "execution_count": 30,
      "outputs": []
    }
  ]
}